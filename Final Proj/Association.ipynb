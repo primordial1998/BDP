{
 "cells": [
  {
   "cell_type": "code",
   "execution_count": 1,
   "id": "3630d421-3a7b-40b6-9db0-9a9f452e54c6",
   "metadata": {
    "tags": []
   },
   "outputs": [],
   "source": [
    "import sqlite3\n",
    "import pandas as pd\n",
    "from pyspark.sql import SparkSession\n",
    "from pyspark.sql import functions as F\n",
    "from pyspark.sql import Row\n",
    "from os import path\n",
    "from pyspark.sql.functions import UserDefinedFunction\n",
    "from pyspark.sql.types import *\n",
    "import seaborn as sns\n",
    "import numpy as np\n",
    "from PIL import Image\n",
    "from wordcloud import WordCloud, STOPWORDS, ImageColorGenerator\n",
    "import matplotlib.pyplot as plt\n",
    "%matplotlib inline\n",
    "import warnings\n",
    "warnings.filterwarnings('ignore')\n",
    "import findspark\n",
    "findspark.init()"
   ]
  },
  {
   "cell_type": "code",
   "execution_count": 2,
   "id": "c3bd3ddd-5d9f-4bc7-8d43-f0cb70ebbbb0",
   "metadata": {
    "tags": []
   },
   "outputs": [
    {
     "data": {
      "text/plain": [
       "24"
      ]
     },
     "execution_count": 2,
     "metadata": {},
     "output_type": "execute_result"
    }
   ],
   "source": [
    "spark = SparkSession.builder.enableHiveSupport().appName('YelpRecommenderAnalysis').getOrCreate()\n",
    "sc = spark.sparkContext\n",
    "sc.defaultParallelism"
   ]
  },
  {
   "cell_type": "code",
   "execution_count": 3,
   "id": "00878fb4-be4c-40f5-90fa-7e75b567a097",
   "metadata": {
    "tags": []
   },
   "outputs": [],
   "source": [
    "df_business = spark.read.json(\"yelp_academic_dataset_business.json\")\n",
    "df_checkin = spark.read.json(\"yelp_academic_dataset_checkin.json\")\n",
    "df_review = spark.read.json(\"yelp_academic_dataset_review.json\")\n",
    "df_tip = spark.read.json(\"yelp_academic_dataset_tip.json\")\n",
    "df_user = spark.read.json(\"yelp_academic_dataset_user.json\")"
   ]
  },
  {
   "cell_type": "code",
   "execution_count": 4,
   "id": "3bd8e348-641e-452e-8e65-e91e6613c049",
   "metadata": {
    "tags": []
   },
   "outputs": [],
   "source": [
    "df_business = df_business.withColumnRenamed('stars', 'business_stars')\n",
    "df_review = df_review.withColumnRenamed('stars', 'review_stars')\n",
    "df_review = df_review.withColumnRenamed('business_id', 'review_business_id')\n",
    "columns_to_drop = ['address','postal_code','latitude','longitude','review_count']\n",
    "df_business = df_business.drop(*columns_to_drop)\n",
    "df_business = df_business.filter(df_business.categories.contains('Restaurants'))\n",
    "df_business = df_business.withColumnRenamed('name', 'business_name')"
   ]
  },
  {
   "cell_type": "code",
   "execution_count": 5,
   "id": "4522796d-93df-40e5-bf36-bb59f5ff63c1",
   "metadata": {
    "tags": []
   },
   "outputs": [],
   "source": [
    "from pyspark.ml.feature import HashingTF, IDF, Tokenizer,StringIndexer,CountVectorizer\n",
    "import pyspark.mllib.classification\n",
    "from pyspark.sql.functions import udf\n",
    "from pyspark.ml.feature import StopWordsRemover\n",
    "from pyspark.ml import Pipeline\n",
    "import string\n",
    "import re\n",
    "import nltk"
   ]
  },
  {
   "cell_type": "code",
   "execution_count": 6,
   "id": "26c03002-e7c0-41f8-8d9b-d78db652ed38",
   "metadata": {
    "tags": []
   },
   "outputs": [],
   "source": [
    "business_restaurant = df_business.select('business_id', 'categories', 'state', 'business_name')\n",
    "\n",
    "\n",
    "# Get all useful reviews, i.e. a review with at least one useful vote and \n",
    "# here we are excluding all neutral reviews as well\n",
    "review_useful = df_review.select('review_business_id', 'review_id', 'review_stars', \n",
    "                              'text', 'useful', 'user_id') \\\n",
    "                      .where(\"useful >= 1 and stars != 3\")\n",
    "\n",
    "\n",
    "# Join the two dataframes above to get all useful reviews for restaurant businesses\n",
    "restaurant_useful_review = business_restaurant.join(review_useful, \n",
    "                                                    [business_restaurant.business_id == review_useful.review_business_id], \n",
    "                                                    how = 'inner')"
   ]
  },
  {
   "cell_type": "markdown",
   "id": "57086f0f-6265-4b85-8469-b4d557f51e02",
   "metadata": {},
   "source": [
    "## 1. Associate Mining"
   ]
  },
  {
   "cell_type": "code",
   "execution_count": 7,
   "id": "f7270028-aa83-465b-8eb8-ff970af8c53f",
   "metadata": {
    "tags": []
   },
   "outputs": [],
   "source": [
    "from pyspark.sql.functions import collect_set, col, count"
   ]
  },
  {
   "cell_type": "code",
   "execution_count": 8,
   "id": "68eab231-aaa4-4d87-ada1-d8f81a2d5b6c",
   "metadata": {
    "tags": []
   },
   "outputs": [
    {
     "name": "stdout",
     "output_type": "stream",
     "text": [
      "+----------------------+----------------------------------------------------------------------------------------------------+\n",
      "|               user_id|                                                                                          categories|\n",
      "+----------------------+----------------------------------------------------------------------------------------------------+\n",
      "|--8r3pNaZiG1fN8LCHuL_g|[Pubs, Nightlife, Bars, Sandwiches, American (New), Restaurants, American (Traditional), Sports B...|\n",
      "|--Kwhcbkh7jxkhVVQZo2uQ|[Bars, Nightlife, American (Traditional), Barbeque, Seafood, Beer Bar, Sports Bars, Restaurants, ...|\n",
      "|--Vu3Gux9nPnLcG9yO_HxA|[Bakeries, Restaurants, Coffee & Tea, Bagels, Food, Breakfast & Brunch, Sandwiches, American (Tra...|\n",
      "|--agAy0vRYwG6WqbInorfg|                                              [Delis, Food, Restaurants, Sandwiches, Desserts, Soup]|\n",
      "|--bAnPT8W3L01Rg17js-Zw|                                                                             [Japanese, Restaurants]|\n",
      "|--gafFJlfUIwzifH583ruw|                                                                              [Restaurants, Mexican]|\n",
      "|--mm7mLpnDS3mNlwuAdbtA|[Salad, Breakfast & Brunch, American (Traditional), Event Planning & Services, Restaurants, Ameri...|\n",
      "|--nQ4-F7JINAlPir_f-VeQ|                             [American (Traditional), Bagels, Breakfast & Brunch, Restaurants, Food]|\n",
      "|--pvE2eu3WWwikKs1E2QDw|[Bars, British, Breakfast & Brunch, Nightlife, Pubs, American (Traditional), Gastropubs, Restaura...|\n",
      "|--t1GgwabT-J_6OQG8f5QQ| [Mediterranean, Specialty Food, Pizza, Food, Convenience Stores, Falafel, Restaurants, Ethnic Food]|\n",
      "|-01TD28Dt9-3-bEviz5Lrw|                   [Nightlife, Burgers, Bars, Restaurants, Sports Bars, Chicken Wings, Food, Diners]|\n",
      "|-05T0q5BxB9g0RCKiGYoyQ|        [Specialty Food, Japanese, Ethnic Food, Sushi Bars, Food, Restaurants, Restaurants, Italian]|\n",
      "|-0lknh8CLIp8XFYwnU59Ag|                                                                               [German, Restaurants]|\n",
      "|-0sySOkmEW2p6SPDOlyiKw|                                                                        [Mediterranean, Restaurants]|\n",
      "|-1BSu2dt_rOAqllw9ZDXtA|[American (Traditional), Comfort Food, Restaurants, Southern, American (New), Fast Food, Restaura...|\n",
      "|-1LmqpHMfQdTe6blE4ZEEA|                                          [American (New), Burgers, Restaurants, Breakfast & Brunch]|\n",
      "|-1Yav6nK1GxDHcUL21VIYg|[Food, Restaurants, Beer, Wine & Spirits, Diners, American (New), Food, Cafes, Restaurants, Coffe...|\n",
      "|-1gWt9TuSDrAMZ1zWQbo_A|                                                             [Bars, Nightlife, Restaurants, Mexican]|\n",
      "|-1ta9NfpkWHD5tzIvjS-9g|                        [Restaurants, Chicken Wings, Sandwiches, Breakfast & Brunch, Pizza, Burgers]|\n",
      "|-1uUM_1PrjcHU6DO4GXWzw|                              [Pubs, Nightlife, American (Traditional), Barbeque, Restaurants, Bars]|\n",
      "+----------------------+----------------------------------------------------------------------------------------------------+\n",
      "only showing top 20 rows\n",
      "\n"
     ]
    }
   ],
   "source": [
    "user_categories = restaurant_useful_review.select('user_id', 'categories')\n",
    "user_cat = user_categories.groupby('user_id').agg(collect_set('categories').alias('categories'))\n",
    "user_cat.createOrReplaceTempView('user_cat')\n",
    "user_cat.show(truncate=100)"
   ]
  },
  {
   "cell_type": "markdown",
   "id": "4b30ebbf-1772-41b0-8cba-2aefb5bafa75",
   "metadata": {},
   "source": [
    "Frequent Itemsets"
   ]
  },
  {
   "cell_type": "code",
   "execution_count": 9,
   "id": "ac1d18ad-13de-41d9-999d-a3daecd43a0a",
   "metadata": {
    "tags": []
   },
   "outputs": [
    {
     "name": "stdout",
     "output_type": "stream",
     "text": [
      "+--------------------------------------------------------------------------------------------+-----+\n",
      "|items                                                                                       |freq |\n",
      "+--------------------------------------------------------------------------------------------+-----+\n",
      "|[Restaurants, Japanese]                                                                     |1525 |\n",
      "|[Live/Raw Food, Restaurants, Seafood, Beer Bar, Beer, Wine & Spirits, Bars, Food, Nightlife]|719  |\n",
      "|[Chinese, Restaurants, Dim Sum, Asian Fusion, Shanghainese]                                 |827  |\n",
      "|[Steakhouses, Restaurants]                                                                  |2655 |\n",
      "|[Restaurants, American (Traditional), Burgers]                                              |648  |\n",
      "|[Diners, Salad, American (Traditional), Breakfast & Brunch, Restaurants]                    |998  |\n",
      "|[Restaurants, Mexican]                                                                      |17081|\n",
      "|[Restaurants, Cajun/Creole, Seafood]                                                        |821  |\n",
      "|[Restaurants, Sushi Bars, Japanese]                                                         |2649 |\n",
      "|[Restaurants, Cafes]                                                                        |648  |\n",
      "|[Restaurants, Delis]                                                                        |995  |\n",
      "|[Mexican, Restaurants]                                                                      |16474|\n",
      "|[Mexican, Restaurants, Restaurants, Mexican]                                                |2596 |\n",
      "|[Spanish, Restaurants, Breakfast & Brunch, Tapas Bars, Iberian]                             |718  |\n",
      "|[Restaurants, Korean]                                                                       |1432 |\n",
      "|[Tacos, Mexican, Restaurants]                                                               |995  |\n",
      "|[Restaurants, Pizza]                                                                        |11257|\n",
      "|[Restaurants, Pizza, Mexican, Restaurants]                                                  |1373 |\n",
      "|[Restaurants, Pizza, Mexican, Restaurants, Restaurants, Mexican]                            |639  |\n",
      "|[Restaurants, Pizza, Restaurants, Mexican]                                                  |1424 |\n",
      "+--------------------------------------------------------------------------------------------+-----+\n",
      "only showing top 20 rows\n",
      "\n"
     ]
    }
   ],
   "source": [
    "from pyspark.ml.fpm import FPGrowth\n",
    "\n",
    "#set the minimum thresholds for support and confidence\n",
    "fpGrowth = FPGrowth(itemsCol=\"categories\", minSupport=0.001, minConfidence=0)\n",
    "\n",
    "model = fpGrowth.fit(user_cat)\n",
    "\n",
    "#Calculate frequent itemsets\n",
    "mostPopularCategory = model.freqItemsets\n",
    "mostPopularCategory.createOrReplaceTempView(\"mostPopularCategory\")\n",
    "\n",
    "# Display frequent itemsets.\n",
    "model.freqItemsets.show(truncate =False)"
   ]
  },
  {
   "cell_type": "code",
   "execution_count": 10,
   "id": "2fda5028-a181-4e1f-bfc2-70efcae35191",
   "metadata": {
    "tags": []
   },
   "outputs": [
    {
     "name": "stdout",
     "output_type": "stream",
     "text": [
      "+----------------------------------------------------------------+----+\n",
      "|items                                                           |freq|\n",
      "+----------------------------------------------------------------+----+\n",
      "|[Restaurants, Pizza, Mexican, Restaurants, Restaurants, Mexican]|639 |\n",
      "+----------------------------------------------------------------+----+\n",
      "\n"
     ]
    }
   ],
   "source": [
    "#only show item groups larger than 2\n",
    "spark.sql('''select items, freq from mostPopularCategory \n",
    "          where size(items) > 2 order by freq desc limit 20''').show(truncate =False)"
   ]
  },
  {
   "cell_type": "markdown",
   "id": "9621791b-34c2-4234-ad81-55147592542c",
   "metadata": {},
   "source": [
    "Association Rules"
   ]
  },
  {
   "cell_type": "code",
   "execution_count": 11,
   "id": "cd6606df-0bfa-4ea5-86a7-ad3a36a0ea03",
   "metadata": {
    "tags": []
   },
   "outputs": [
    {
     "name": "stdout",
     "output_type": "stream",
     "text": [
      "+--------------------------------------------+-----------------------------+-------------------+------------------+---------------------+\n",
      "|antecedent                                  |consequent                   |confidence         |lift              |support              |\n",
      "+--------------------------------------------+-----------------------------+-------------------+------------------+---------------------+\n",
      "|[Restaurants, Thai]                         |[Mexican, Restaurants]       |0.15731989077924804|5.788453310438805 |0.0012356738546920136|\n",
      "|[Restaurants, Thai]                         |[Restaurants, Mexican]       |0.16845200588111742|5.977792752697247 |0.0013231113904712884|\n",
      "|[Thai, Restaurants]                         |[Restaurants, Pizza]         |0.10226139008979049|5.5063902299685745|0.001014605368004791 |\n",
      "|[Thai, Restaurants]                         |[Mexican, Restaurants]       |0.161456601263718  |5.94066009992709  |0.0016019216460693528|\n",
      "|[Thai, Restaurants]                         |[Restaurants, Mexican]       |0.161456601263718  |5.729549469363555 |0.0016019216460693528|\n",
      "|[Restaurants, Pizza, Mexican, Restaurants]  |[Restaurants, Mexican]       |0.4654042243262928 |16.515624047931   |0.0010541997238293682|\n",
      "|[Mexican, Restaurants, Restaurants, Mexican]|[Restaurants, Pizza]         |0.24614791987673343|13.254137264770574|0.0010541997238293682|\n",
      "|[Restaurants, Italian]                      |[Restaurants, Pizza]         |0.08823529411764706|4.751137854093401 |0.0013957010428163464|\n",
      "|[Restaurants, Italian]                      |[Mexican, Restaurants]       |0.11973299958281185|4.405475203236777 |0.0018939300202756098|\n",
      "|[Restaurants, Italian]                      |[Pizza, Restaurants]         |0.07811848143512724|4.70174592060948  |0.0012356738546920136|\n",
      "|[Restaurants, Italian]                      |[Restaurants, Mexican]       |0.11921151439299124|4.230414016437472 |0.0018856811961454896|\n",
      "|[Restaurants, Italian]                      |[Italian, Restaurants]       |0.11316228619107217|7.28240580612165  |0.0017899948362360945|\n",
      "|[Restaurants, Italian]                      |[Restaurants, Chinese]       |0.06716729244889445|4.4749673352407155|0.0010624485479594885|\n",
      "|[Restaurants, Italian]                      |[American (New), Restaurants]|0.08020442219440968|7.466697880490684 |0.0012686691512124946|\n",
      "|[Restaurants, Italian]                      |[Restaurants, American (New)]|0.07227784730913642|6.826269914753991 |0.0011432870244346667|\n",
      "|[Restaurants, Mexican]                      |[Mexican, Restaurants]       |0.1519817340905099 |5.592040316484176 |0.004282789488358435 |\n",
      "|[Restaurants, Mexican]                      |[Restaurants, Pizza]         |0.0833674843393244 |4.489024653977833 |0.0023492651122582475|\n",
      "|[Restaurants, Mexican]                      |[Pizza, Restaurants]         |0.07271237047011299|4.376366321452445 |0.0020490079139218703|\n",
      "|[Restaurants, Mexican]                      |[Restaurants, Italian]       |0.06691645688191558|4.2304140164374715|0.0018856811961454896|\n",
      "|[Restaurants, Mexican]                      |[Italian, Restaurants]       |0.06662373397342077|4.287480250216273 |0.0018774323720153693|\n",
      "|[Restaurants, Mexican]                      |[Restaurants, Chinese]       |0.07001931971196065|4.664981378923479 |0.001973118731924764 |\n",
      "|[Restaurants, Mexican]                      |[Chinese, Restaurants]       |0.06281833616298811|4.827836441002505 |0.0017701976583238059|\n",
      "|[Restaurants, Mexican]                      |[American (New), Restaurants]|0.05116796440489433|4.763524515455918 |0.00144189445794502  |\n",
      "|[Restaurants, Mexican]                      |[Restaurants, American (New)]|0.05550026345061765|5.241713647522832 |0.0015639770550707997|\n",
      "|[Restaurants, Mexican]                      |[Thai, Restaurants]          |0.05684678882969381|5.729549469363554 |0.0016019216460693528|\n",
      "+--------------------------------------------+-----------------------------+-------------------+------------------+---------------------+\n",
      "only showing top 25 rows\n",
      "\n"
     ]
    }
   ],
   "source": [
    "model.associationRules.show(25, truncate=False)"
   ]
  },
  {
   "cell_type": "code",
   "execution_count": 12,
   "id": "b13948f7-0145-40af-b33e-051869d687ca",
   "metadata": {
    "tags": []
   },
   "outputs": [
    {
     "name": "stdout",
     "output_type": "stream",
     "text": [
      "+--------------------------------------------+----------------------+-------------------+------------------+---------------------+\n",
      "|antecedent                                  |consequent            |confidence         |lift              |support              |\n",
      "+--------------------------------------------+----------------------+-------------------+------------------+---------------------+\n",
      "|[Restaurants, Pizza, Mexican, Restaurants]  |[Restaurants, Mexican]|0.4654042243262928 |16.515624047931   |0.0010541997238293682|\n",
      "|[Restaurants, Pizza, Restaurants, Mexican]  |[Mexican, Restaurants]|0.4487359550561798 |16.51086275036046 |0.0010541997238293682|\n",
      "|[Mexican, Restaurants, Restaurants, Mexican]|[Restaurants, Pizza]  |0.24614791987673343|13.254137264770574|0.0010541997238293682|\n",
      "|[Vietnamese, Restaurants]                   |[Restaurants, Mexican]|0.1737152034261242 |6.164565857451842 |0.0010706973720896087|\n",
      "|[Restaurants, Thai]                         |[Restaurants, Mexican]|0.16845200588111742|5.977792752697247 |0.0013231113904712884|\n",
      "|[Restaurants, Vietnamese]                   |[Restaurants, Mexican]|0.16608155549554415|5.893673474559897 |0.001014605368004791 |\n",
      "|[Thai, Restaurants]                         |[Restaurants, Mexican]|0.161456601263718  |5.729549469363555 |0.0016019216460693528|\n",
      "|[Thai, Restaurants]                         |[Mexican, Restaurants]|0.161456601263718  |5.94066009992709  |0.0016019216460693528|\n",
      "|[Mexican, Restaurants]                      |[Restaurants, Mexican]|0.15758164380235523|5.5920403164841765|0.004282789488358435 |\n",
      "|[Restaurants, Thai]                         |[Mexican, Restaurants]|0.15731989077924804|5.788453310438805 |0.0012356738546920136|\n",
      "|[Restaurants, Mexican]                      |[Mexican, Restaurants]|0.1519817340905099 |5.592040316484176 |0.004282789488358435 |\n",
      "|[Restaurants, American (New)]               |[Restaurants, Mexican]|0.14770956684325334|5.241713647522832 |0.0015639770550707997|\n",
      "|[Restaurants, American (New)]               |[Mexican, Restaurants]|0.14568401371143658|5.360320982101866 |0.001542530112332487 |\n",
      "|[Chinese, Restaurants]                      |[Restaurants, Mexican]|0.13604665905921137|4.827836441002505 |0.0017701976583238059|\n",
      "|[American (New), Restaurants]               |[Mexican, Restaurants]|0.13469513131623406|4.9559942795885235|0.001446843752423092 |\n",
      "|[American (New), Restaurants]               |[Restaurants, Mexican]|0.134234372600215  |4.763524515455917 |0.00144189445794502  |\n",
      "|[Restaurants, Chinese]                      |[Restaurants, Mexican]|0.1314574631787206 |4.664981378923479 |0.001973118731924764 |\n",
      "|[Restaurants, Chinese]                      |[Mexican, Restaurants]|0.13123763464497692|4.828778592154233 |0.001969819202272716 |\n",
      "|[Chinese, Restaurants]                      |[Mexican, Restaurants]|0.1280588309877013 |4.711817180205304 |0.0016662624742842908|\n",
      "|[Restaurants, Pizza]                        |[Restaurants, Mexican]|0.1264990672470463 |4.489024653977833 |0.0023492651122582475|\n",
      "|[Pizza, Restaurants]                        |[Mexican, Restaurants]|0.1240194618210704 |4.563191982788416 |0.002060556267704039 |\n",
      "|[Pizza, Restaurants]                        |[Restaurants, Mexican]|0.12332439678284182|4.376366321452445 |0.0020490079139218703|\n",
      "|[Italian, Restaurants]                      |[Mexican, Restaurants]|0.1221998088969105 |4.496239381051087 |0.001898879314753682 |\n",
      "|[Restaurants, Pizza]                        |[Mexican, Restaurants]|0.12196855290041751|4.487730510800618 |0.002265127106131021 |\n",
      "|[Italian, Restaurants]                      |[Restaurants, Mexican]|0.12081961991718866|4.287480250216273 |0.0018774323720153693|\n",
      "+--------------------------------------------+----------------------+-------------------+------------------+---------------------+\n",
      "only showing top 25 rows\n",
      "\n"
     ]
    }
   ],
   "source": [
    "#sort by confidence\n",
    "model.associationRules.orderBy(\"confidence\", ascending=False).show(25, truncate=False)"
   ]
  },
  {
   "cell_type": "code",
   "execution_count": 13,
   "id": "852cbe1d-70c8-4ebf-a39d-537b8281df1b",
   "metadata": {
    "tags": []
   },
   "outputs": [
    {
     "data": {
      "text/html": [
       "<div>\n",
       "<style scoped>\n",
       "    .dataframe tbody tr th:only-of-type {\n",
       "        vertical-align: middle;\n",
       "    }\n",
       "\n",
       "    .dataframe tbody tr th {\n",
       "        vertical-align: top;\n",
       "    }\n",
       "\n",
       "    .dataframe thead th {\n",
       "        text-align: right;\n",
       "    }\n",
       "</style>\n",
       "<table border=\"1\" class=\"dataframe\">\n",
       "  <thead>\n",
       "    <tr style=\"text-align: right;\">\n",
       "      <th></th>\n",
       "      <th>antecedent</th>\n",
       "      <th>consequent</th>\n",
       "      <th>confidence</th>\n",
       "      <th>lift</th>\n",
       "      <th>support</th>\n",
       "    </tr>\n",
       "  </thead>\n",
       "  <tbody>\n",
       "    <tr>\n",
       "      <th>0</th>\n",
       "      <td>[Restaurants, Pizza, Mexican, Restaurants]</td>\n",
       "      <td>[Restaurants, Mexican]</td>\n",
       "      <td>0.465404</td>\n",
       "      <td>16.515624</td>\n",
       "      <td>0.001054</td>\n",
       "    </tr>\n",
       "    <tr>\n",
       "      <th>1</th>\n",
       "      <td>[Restaurants, Pizza, Restaurants, Mexican]</td>\n",
       "      <td>[Mexican, Restaurants]</td>\n",
       "      <td>0.448736</td>\n",
       "      <td>16.510863</td>\n",
       "      <td>0.001054</td>\n",
       "    </tr>\n",
       "    <tr>\n",
       "      <th>2</th>\n",
       "      <td>[Mexican, Restaurants, Restaurants, Mexican]</td>\n",
       "      <td>[Restaurants, Pizza]</td>\n",
       "      <td>0.246148</td>\n",
       "      <td>13.254137</td>\n",
       "      <td>0.001054</td>\n",
       "    </tr>\n",
       "    <tr>\n",
       "      <th>3</th>\n",
       "      <td>[Vietnamese, Restaurants]</td>\n",
       "      <td>[Restaurants, Mexican]</td>\n",
       "      <td>0.173715</td>\n",
       "      <td>6.164566</td>\n",
       "      <td>0.001071</td>\n",
       "    </tr>\n",
       "    <tr>\n",
       "      <th>4</th>\n",
       "      <td>[Restaurants, Thai]</td>\n",
       "      <td>[Restaurants, Mexican]</td>\n",
       "      <td>0.168452</td>\n",
       "      <td>5.977793</td>\n",
       "      <td>0.001323</td>\n",
       "    </tr>\n",
       "  </tbody>\n",
       "</table>\n",
       "</div>"
      ],
      "text/plain": [
       "                                     antecedent              consequent  \\\n",
       "0    [Restaurants, Pizza, Mexican, Restaurants]  [Restaurants, Mexican]   \n",
       "1    [Restaurants, Pizza, Restaurants, Mexican]  [Mexican, Restaurants]   \n",
       "2  [Mexican, Restaurants, Restaurants, Mexican]    [Restaurants, Pizza]   \n",
       "3                     [Vietnamese, Restaurants]  [Restaurants, Mexican]   \n",
       "4                           [Restaurants, Thai]  [Restaurants, Mexican]   \n",
       "\n",
       "   confidence       lift   support  \n",
       "0    0.465404  16.515624  0.001054  \n",
       "1    0.448736  16.510863  0.001054  \n",
       "2    0.246148  13.254137  0.001054  \n",
       "3    0.173715   6.164566  0.001071  \n",
       "4    0.168452   5.977793  0.001323  "
      ]
     },
     "execution_count": 13,
     "metadata": {},
     "output_type": "execute_result"
    }
   ],
   "source": [
    "model.associationRules.orderBy(\"confidence\", ascending=False).toPandas().head()"
   ]
  },
  {
   "cell_type": "markdown",
   "id": "8afec46c-2afd-4cfd-b860-c0e0e7766554",
   "metadata": {
    "tags": []
   },
   "source": [
    "Predictions"
   ]
  },
  {
   "cell_type": "code",
   "execution_count": 14,
   "id": "7696f627-2a56-4da7-af09-0e72ea4101f3",
   "metadata": {
    "tags": []
   },
   "outputs": [
    {
     "name": "stdout",
     "output_type": "stream",
     "text": [
      "+----------------------+----------------------------------------------------------------------+----------------------------------------------------------------------+\n",
      "|               user_id|                                                            categories|                                                            prediction|\n",
      "+----------------------+----------------------------------------------------------------------+----------------------------------------------------------------------+\n",
      "|--8r3pNaZiG1fN8LCHuL_g|[Pubs, Nightlife, Bars, Sandwiches, American (New), Restaurants, Am...|[Restaurants, Pizza, Italian, Restaurants, Restaurants, Italian, Me...|\n",
      "|--Kwhcbkh7jxkhVVQZo2uQ|[Bars, Nightlife, American (Traditional), Barbeque, Seafood, Beer B...|                                                                    []|\n",
      "|--Vu3Gux9nPnLcG9yO_HxA|[Bakeries, Restaurants, Coffee & Tea, Bagels, Food, Breakfast & Bru...|[Restaurants, Mexican, Restaurants, Pizza, Pizza, Restaurants, Rest...|\n",
      "|--agAy0vRYwG6WqbInorfg|                [Delis, Food, Restaurants, Sandwiches, Desserts, Soup]|                                                                    []|\n",
      "|--bAnPT8W3L01Rg17js-Zw|                                               [Japanese, Restaurants]|                                                                    []|\n",
      "|--gafFJlfUIwzifH583ruw|                                                [Restaurants, Mexican]|[Mexican, Restaurants, Restaurants, Pizza, Pizza, Restaurants, Rest...|\n",
      "|--mm7mLpnDS3mNlwuAdbtA|[Salad, Breakfast & Brunch, American (Traditional), Event Planning ...|                                                                    []|\n",
      "|--nQ4-F7JINAlPir_f-VeQ|[American (Traditional), Bagels, Breakfast & Brunch, Restaurants, F...|                                                                    []|\n",
      "|--pvE2eu3WWwikKs1E2QDw|[Bars, British, Breakfast & Brunch, Nightlife, Pubs, American (Trad...|                                                                    []|\n",
      "|--t1GgwabT-J_6OQG8f5QQ|[Mediterranean, Specialty Food, Pizza, Food, Convenience Stores, Fa...|                                                                    []|\n",
      "|-01TD28Dt9-3-bEviz5Lrw|[Nightlife, Burgers, Bars, Restaurants, Sports Bars, Chicken Wings,...|                                                                    []|\n",
      "|-05T0q5BxB9g0RCKiGYoyQ|[Specialty Food, Japanese, Ethnic Food, Sushi Bars, Food, Restauran...|[Restaurants, Pizza, Mexican, Restaurants, Pizza, Restaurants, Rest...|\n",
      "|-0lknh8CLIp8XFYwnU59Ag|                                                 [German, Restaurants]|                                                                    []|\n",
      "|-0sySOkmEW2p6SPDOlyiKw|                                          [Mediterranean, Restaurants]|                                                                    []|\n",
      "|-1BSu2dt_rOAqllw9ZDXtA|[American (Traditional), Comfort Food, Restaurants, Southern, Ameri...|                                                                    []|\n",
      "|-1LmqpHMfQdTe6blE4ZEEA|            [American (New), Burgers, Restaurants, Breakfast & Brunch]|                                                                    []|\n",
      "|-1Yav6nK1GxDHcUL21VIYg|[Food, Restaurants, Beer, Wine & Spirits, Diners, American (New), F...|                                                                    []|\n",
      "|-1gWt9TuSDrAMZ1zWQbo_A|                               [Bars, Nightlife, Restaurants, Mexican]|                                                                    []|\n",
      "|-1ta9NfpkWHD5tzIvjS-9g|[Restaurants, Chicken Wings, Sandwiches, Breakfast & Brunch, Pizza,...|                                                                    []|\n",
      "|-1uUM_1PrjcHU6DO4GXWzw|[Pubs, Nightlife, American (Traditional), Barbeque, Restaurants, Bars]|                                                                    []|\n",
      "+----------------------+----------------------------------------------------------------------+----------------------------------------------------------------------+\n",
      "only showing top 20 rows\n",
      "\n"
     ]
    }
   ],
   "source": [
    "model.transform(user_cat).show(truncate=70)"
   ]
  },
  {
   "cell_type": "code",
   "execution_count": 15,
   "id": "bcebdd8d-55aa-4039-9c31-dba878f36836",
   "metadata": {
    "tags": []
   },
   "outputs": [],
   "source": [
    "user_cat_pred = model.transform(user_cat).toPandas()"
   ]
  },
  {
   "cell_type": "code",
   "execution_count": 16,
   "id": "19e788d7-b720-4db1-92df-f22ef4cbdcff",
   "metadata": {
    "tags": []
   },
   "outputs": [],
   "source": [
    "user_cat_pred = user_cat_pred[user_cat_pred[\"prediction\"].str.len() != 0]"
   ]
  },
  {
   "cell_type": "code",
   "execution_count": 17,
   "id": "2b71142d-6dc9-4653-a16a-bb43dd4c38ed",
   "metadata": {
    "tags": []
   },
   "outputs": [
    {
     "data": {
      "text/html": [
       "<div>\n",
       "<style scoped>\n",
       "    .dataframe tbody tr th:only-of-type {\n",
       "        vertical-align: middle;\n",
       "    }\n",
       "\n",
       "    .dataframe tbody tr th {\n",
       "        vertical-align: top;\n",
       "    }\n",
       "\n",
       "    .dataframe thead th {\n",
       "        text-align: right;\n",
       "    }\n",
       "</style>\n",
       "<table border=\"1\" class=\"dataframe\">\n",
       "  <thead>\n",
       "    <tr style=\"text-align: right;\">\n",
       "      <th></th>\n",
       "      <th>user_id</th>\n",
       "      <th>categories</th>\n",
       "      <th>prediction</th>\n",
       "    </tr>\n",
       "  </thead>\n",
       "  <tbody>\n",
       "    <tr>\n",
       "      <th>0</th>\n",
       "      <td>--8r3pNaZiG1fN8LCHuL_g</td>\n",
       "      <td>[Pubs, Nightlife, Bars, Sandwiches, American (...</td>\n",
       "      <td>[Restaurants, Pizza, Italian, Restaurants, Res...</td>\n",
       "    </tr>\n",
       "    <tr>\n",
       "      <th>2</th>\n",
       "      <td>--Vu3Gux9nPnLcG9yO_HxA</td>\n",
       "      <td>[Bakeries, Restaurants, Coffee &amp; Tea, Bagels, ...</td>\n",
       "      <td>[Restaurants, Mexican, Restaurants, Pizza, Piz...</td>\n",
       "    </tr>\n",
       "    <tr>\n",
       "      <th>5</th>\n",
       "      <td>--gafFJlfUIwzifH583ruw</td>\n",
       "      <td>[Restaurants, Mexican]</td>\n",
       "      <td>[Mexican, Restaurants, Restaurants, Pizza, Piz...</td>\n",
       "    </tr>\n",
       "    <tr>\n",
       "      <th>11</th>\n",
       "      <td>-05T0q5BxB9g0RCKiGYoyQ</td>\n",
       "      <td>[Specialty Food, Japanese, Ethnic Food, Sushi ...</td>\n",
       "      <td>[Restaurants, Pizza, Mexican, Restaurants, Piz...</td>\n",
       "    </tr>\n",
       "    <tr>\n",
       "      <th>29</th>\n",
       "      <td>-3s52C4zL_DHRK0ULG6qtg</td>\n",
       "      <td>[Bars, Restaurants, Burgers, Greek, American (...</td>\n",
       "      <td>[Restaurants, Mexican, Restaurants, Italian, R...</td>\n",
       "    </tr>\n",
       "    <tr>\n",
       "      <th>...</th>\n",
       "      <td>...</td>\n",
       "      <td>...</td>\n",
       "      <td>...</td>\n",
       "    </tr>\n",
       "    <tr>\n",
       "      <th>606118</th>\n",
       "      <td>zv7w7qx-8umbe_RrwGo9MQ</td>\n",
       "      <td>[American (Traditional), Coffee &amp; Tea, Restaur...</td>\n",
       "      <td>[Restaurants, Mexican, Restaurants, Pizza, Piz...</td>\n",
       "    </tr>\n",
       "    <tr>\n",
       "      <th>606127</th>\n",
       "      <td>zwcrm4WMUq0Duz6P5rr0sw</td>\n",
       "      <td>[Chinese, Restaurants]</td>\n",
       "      <td>[Restaurants, Pizza, Mexican, Restaurants, Piz...</td>\n",
       "    </tr>\n",
       "    <tr>\n",
       "      <th>606130</th>\n",
       "      <td>zxIYRuegLaSHBhn4JErnFw</td>\n",
       "      <td>[Restaurants, Pizza]</td>\n",
       "      <td>[Mexican, Restaurants, Restaurants, Mexican, P...</td>\n",
       "    </tr>\n",
       "    <tr>\n",
       "      <th>606139</th>\n",
       "      <td>zykLkhcejsC-4y2GaXBcbQ</td>\n",
       "      <td>[Pizza, Restaurants]</td>\n",
       "      <td>[Restaurants, Pizza, Mexican, Restaurants, Res...</td>\n",
       "    </tr>\n",
       "    <tr>\n",
       "      <th>606144</th>\n",
       "      <td>zzSSEPbr4hkvPBOq1ZM9Yw</td>\n",
       "      <td>[Restaurants, American (New), Delis, Restauran...</td>\n",
       "      <td>[American (New), Restaurants, Restaurants, Piz...</td>\n",
       "    </tr>\n",
       "  </tbody>\n",
       "</table>\n",
       "<p>91098 rows × 3 columns</p>\n",
       "</div>"
      ],
      "text/plain": [
       "                       user_id  \\\n",
       "0       --8r3pNaZiG1fN8LCHuL_g   \n",
       "2       --Vu3Gux9nPnLcG9yO_HxA   \n",
       "5       --gafFJlfUIwzifH583ruw   \n",
       "11      -05T0q5BxB9g0RCKiGYoyQ   \n",
       "29      -3s52C4zL_DHRK0ULG6qtg   \n",
       "...                        ...   \n",
       "606118  zv7w7qx-8umbe_RrwGo9MQ   \n",
       "606127  zwcrm4WMUq0Duz6P5rr0sw   \n",
       "606130  zxIYRuegLaSHBhn4JErnFw   \n",
       "606139  zykLkhcejsC-4y2GaXBcbQ   \n",
       "606144  zzSSEPbr4hkvPBOq1ZM9Yw   \n",
       "\n",
       "                                               categories  \\\n",
       "0       [Pubs, Nightlife, Bars, Sandwiches, American (...   \n",
       "2       [Bakeries, Restaurants, Coffee & Tea, Bagels, ...   \n",
       "5                                  [Restaurants, Mexican]   \n",
       "11      [Specialty Food, Japanese, Ethnic Food, Sushi ...   \n",
       "29      [Bars, Restaurants, Burgers, Greek, American (...   \n",
       "...                                                   ...   \n",
       "606118  [American (Traditional), Coffee & Tea, Restaur...   \n",
       "606127                             [Chinese, Restaurants]   \n",
       "606130                               [Restaurants, Pizza]   \n",
       "606139                               [Pizza, Restaurants]   \n",
       "606144  [Restaurants, American (New), Delis, Restauran...   \n",
       "\n",
       "                                               prediction  \n",
       "0       [Restaurants, Pizza, Italian, Restaurants, Res...  \n",
       "2       [Restaurants, Mexican, Restaurants, Pizza, Piz...  \n",
       "5       [Mexican, Restaurants, Restaurants, Pizza, Piz...  \n",
       "11      [Restaurants, Pizza, Mexican, Restaurants, Piz...  \n",
       "29      [Restaurants, Mexican, Restaurants, Italian, R...  \n",
       "...                                                   ...  \n",
       "606118  [Restaurants, Mexican, Restaurants, Pizza, Piz...  \n",
       "606127  [Restaurants, Pizza, Mexican, Restaurants, Piz...  \n",
       "606130  [Mexican, Restaurants, Restaurants, Mexican, P...  \n",
       "606139  [Restaurants, Pizza, Mexican, Restaurants, Res...  \n",
       "606144  [American (New), Restaurants, Restaurants, Piz...  \n",
       "\n",
       "[91098 rows x 3 columns]"
      ]
     },
     "execution_count": 17,
     "metadata": {},
     "output_type": "execute_result"
    }
   ],
   "source": [
    "user_cat_pred"
   ]
  },
  {
   "cell_type": "markdown",
   "id": "725e588c-bc3c-4f9c-a374-8edd98fadf21",
   "metadata": {},
   "source": [
    "## 2. ALS"
   ]
  },
  {
   "cell_type": "code",
   "execution_count": 18,
   "id": "0502b5ee-cdbc-4d41-b38f-0c097bbf2a34",
   "metadata": {
    "tags": []
   },
   "outputs": [],
   "source": [
    "from pyspark.ml.recommendation import ALS\n",
    "from pyspark.ml.evaluation import RegressionEvaluator"
   ]
  },
  {
   "cell_type": "code",
   "execution_count": 19,
   "id": "d5410b3b-a210-4957-8b71-0b6c66666978",
   "metadata": {
    "tags": []
   },
   "outputs": [
    {
     "name": "stdout",
     "output_type": "stream",
     "text": [
      "+--------------------+--------------------+-----+---------------+--------------------+--------------------+------------+--------------------+------+--------------------+\n",
      "|         business_id|          categories|state|  business_name|  review_business_id|           review_id|review_stars|                text|useful|             user_id|\n",
      "+--------------------+--------------------+-----+---------------+--------------------+--------------------+------------+--------------------+------+--------------------+\n",
      "|kxX2SOes4o-D3ZQBk...|Halal, Pakistani,...|   PA|          Zaika|kxX2SOes4o-D3ZQBk...|AqPFMleE6RsU23_au...|         5.0|Wow!  Yummy, diff...|     1|_7bHUi9Uuf5__HHc_...|\n",
      "|e4Vwtrqf-wpJfwesg...|Sandwiches, Beer,...|   LA|           Melt|e4Vwtrqf-wpJfwesg...|Sx8TMOWLNuJBWer-0...|         4.0|Cute interior and...|     1|bcjbaE6dDog4jkNY9...|\n",
      "|04UD14gamNjLY0IDY...|Mediterranean, Re...|   PA|       Dmitri's|04UD14gamNjLY0IDY...|JrIxlS1TzJ-iCu79u...|         1.0|I am a long term ...|     1|eUta8W_HdHMXPzLBB...|\n",
      "|LHSTtnW3YHCeUkRDG...|Beer Bar, Bars, A...|   PA|Fries Rebellion|LHSTtnW3YHCeUkRDG...|_ZeMknuYdlQcUqng_...|         5.0|Amazingly amazing...|     2|yfFzsLmaWF2d4Sr0U...|\n",
      "|rBdG_23USc7DletfZ...|Wine Bars, Bars, ...|   MO|           Olio|rBdG_23USc7DletfZ...|LnGZB0fjfgeVDVz5I...|         4.0|The hubby and I h...|     1|j2wlzrntrbKwyOcOi...|\n",
      "+--------------------+--------------------+-----+---------------+--------------------+--------------------+------------+--------------------+------+--------------------+\n",
      "only showing top 5 rows\n",
      "\n"
     ]
    }
   ],
   "source": [
    "restaurant_useful_review.show(5)"
   ]
  },
  {
   "cell_type": "code",
   "execution_count": 20,
   "id": "4a95d704-0c58-4183-b0c6-232e7350beb4",
   "metadata": {
    "tags": []
   },
   "outputs": [],
   "source": [
    "df_als = restaurant_useful_review.select('user_id','business_id','business_name','review_stars')"
   ]
  },
  {
   "cell_type": "code",
   "execution_count": 21,
   "id": "f10a776d-8e9b-4072-8a1b-5662047c7ff7",
   "metadata": {
    "tags": []
   },
   "outputs": [
    {
     "name": "stdout",
     "output_type": "stream",
     "text": [
      "+--------------------+--------------------+---------------+------------+\n",
      "|             user_id|         business_id|  business_name|review_stars|\n",
      "+--------------------+--------------------+---------------+------------+\n",
      "|_7bHUi9Uuf5__HHc_...|kxX2SOes4o-D3ZQBk...|          Zaika|         5.0|\n",
      "|bcjbaE6dDog4jkNY9...|e4Vwtrqf-wpJfwesg...|           Melt|         4.0|\n",
      "|eUta8W_HdHMXPzLBB...|04UD14gamNjLY0IDY...|       Dmitri's|         1.0|\n",
      "|yfFzsLmaWF2d4Sr0U...|LHSTtnW3YHCeUkRDG...|Fries Rebellion|         5.0|\n",
      "|j2wlzrntrbKwyOcOi...|rBdG_23USc7DletfZ...|           Olio|         4.0|\n",
      "+--------------------+--------------------+---------------+------------+\n",
      "only showing top 5 rows\n",
      "\n"
     ]
    }
   ],
   "source": [
    "df_als.show(5)"
   ]
  },
  {
   "cell_type": "code",
   "execution_count": 22,
   "id": "5a103fff-27ac-4175-8bb7-c764fd51ccfc",
   "metadata": {
    "tags": []
   },
   "outputs": [
    {
     "name": "stdout",
     "output_type": "stream",
     "text": [
      "+--------------------+--------------------+--------------------+------------+-----------+\n",
      "|             user_id|         business_id|       business_name|review_stars|user_id_int|\n",
      "+--------------------+--------------------+--------------------+------------+-----------+\n",
      "|_7bHUi9Uuf5__HHc_...|kxX2SOes4o-D3ZQBk...|               Zaika|         5.0|   440047.0|\n",
      "|bcjbaE6dDog4jkNY9...|e4Vwtrqf-wpJfwesg...|                Melt|         4.0|     8524.0|\n",
      "|eUta8W_HdHMXPzLBB...|04UD14gamNjLY0IDY...|            Dmitri's|         1.0|   473296.0|\n",
      "|yfFzsLmaWF2d4Sr0U...|LHSTtnW3YHCeUkRDG...|     Fries Rebellion|         5.0|   598073.0|\n",
      "|j2wlzrntrbKwyOcOi...|rBdG_23USc7DletfZ...|                Olio|         4.0|     4689.0|\n",
      "|RreNy--tOmXMl1en0...|cPepkJeRMtHapc_b2...|Naked Tchopstix E...|         4.0|     3421.0|\n",
      "|mNsVyC9tQVYtzLOCb...|MWmXGQ98KbRo3vsS5...|Anthony's at Paxo...|         5.0|    59244.0|\n",
      "|QzCEzH3R7Z6erOGLr...|0pMj5xUAecW9o1P35...|                Wawa|         5.0|   160132.0|\n",
      "|EZjT2qJN0mOXypMAq...|A2q7d-CBM2-81tVkm...|          The Buffet|         2.0|    42479.0|\n",
      "|OuatwND396ZQxm2zK...|jNL5KUPz2-tHUJM__...|El Chicanito Mexi...|         1.0|   370921.0|\n",
      "|ZGjgfSvjQK886kiTz...|EtKSTHV5Qx_Q7Aur9...|     Village Whiskey|         5.0|     1009.0|\n",
      "|bHSoye7R5cL-LVWLx...|SSZDGl2J-CEyIzuIb...|Caleco's Bar & Grill|         2.0|   453172.0|\n",
      "|GtqEcbHF-WTfKlms9...|7wQEzj-0yOpLiANNL...|     Deepwater Diner|         4.0|   321330.0|\n",
      "|Z5j9Xw_G0c7M2b1-i...|HTqXI5S2XcSlh_ylx...| Termini Bros Bakery|         5.0|     7674.0|\n",
      "|UsBxLh14sUpO8Sdeq...|Wy8Hswf2cLQGRZN6a...|     Jack in the Box|         1.0|    72445.0|\n",
      "|qVYilGRmY6uemAy_t...|9OtFX3YzG5keaUMOW...|           Champions|         5.0|   115248.0|\n",
      "|kHmXUEOAsIbguUrPo...|iD25g7vUG3asELjXt...|    Taqueria del Sol|         2.0|     1641.0|\n",
      "|C_2mNjl-doRVvsL03...|18eWJFJbXyR9j_5xf...|       Siam Elephant|         4.0|    35629.0|\n",
      "|4ubLHlnMFFw4JikcX...|f4PA-f1tcN1bIpZJL...|        Deccan Spice|         5.0|   247073.0|\n",
      "|xE7AXFF9wVaN6id6O...|D5V0Fawd6ODVgqCY8...|Loews Philadelphi...|         4.0|   589043.0|\n",
      "+--------------------+--------------------+--------------------+------------+-----------+\n",
      "only showing top 20 rows\n",
      "\n"
     ]
    }
   ],
   "source": [
    "from pyspark.ml.feature import StringIndexer\n",
    "\n",
    "user_id_indexer = StringIndexer(inputCol=\"user_id\", outputCol=\"user_id_int\") \n",
    "user_id_indexed = user_id_indexer.fit(df_als).transform(df_als) \n",
    "user_id_indexed.show()"
   ]
  },
  {
   "cell_type": "code",
   "execution_count": 23,
   "id": "211c8ce7-0489-42c0-ac63-2659a9a02ad7",
   "metadata": {
    "tags": []
   },
   "outputs": [
    {
     "name": "stdout",
     "output_type": "stream",
     "text": [
      "+--------------------+--------------------+--------------------+------------+-----------+---------------+\n",
      "|             user_id|         business_id|       business_name|review_stars|user_id_int|business_id_int|\n",
      "+--------------------+--------------------+--------------------+------------+-----------+---------------+\n",
      "|_7bHUi9Uuf5__HHc_...|kxX2SOes4o-D3ZQBk...|               Zaika|         5.0|   440047.0|         3634.0|\n",
      "|bcjbaE6dDog4jkNY9...|e4Vwtrqf-wpJfwesg...|                Melt|         4.0|     8524.0|        22766.0|\n",
      "|eUta8W_HdHMXPzLBB...|04UD14gamNjLY0IDY...|            Dmitri's|         1.0|   473296.0|         2474.0|\n",
      "|yfFzsLmaWF2d4Sr0U...|LHSTtnW3YHCeUkRDG...|     Fries Rebellion|         5.0|   598073.0|         9010.0|\n",
      "|j2wlzrntrbKwyOcOi...|rBdG_23USc7DletfZ...|                Olio|         4.0|     4689.0|         2144.0|\n",
      "|RreNy--tOmXMl1en0...|cPepkJeRMtHapc_b2...|Naked Tchopstix E...|         4.0|     3421.0|        21160.0|\n",
      "|mNsVyC9tQVYtzLOCb...|MWmXGQ98KbRo3vsS5...|Anthony's at Paxo...|         5.0|    59244.0|        31408.0|\n",
      "|QzCEzH3R7Z6erOGLr...|0pMj5xUAecW9o1P35...|                Wawa|         5.0|   160132.0|        43670.0|\n",
      "|EZjT2qJN0mOXypMAq...|A2q7d-CBM2-81tVkm...|          The Buffet|         2.0|    42479.0|          928.0|\n",
      "|OuatwND396ZQxm2zK...|jNL5KUPz2-tHUJM__...|El Chicanito Mexi...|         1.0|   370921.0|        37606.0|\n",
      "|ZGjgfSvjQK886kiTz...|EtKSTHV5Qx_Q7Aur9...|     Village Whiskey|         5.0|     1009.0|           96.0|\n",
      "|bHSoye7R5cL-LVWLx...|SSZDGl2J-CEyIzuIb...|Caleco's Bar & Grill|         2.0|   453172.0|         2093.0|\n",
      "|GtqEcbHF-WTfKlms9...|7wQEzj-0yOpLiANNL...|     Deepwater Diner|         4.0|   321330.0|        18821.0|\n",
      "|Z5j9Xw_G0c7M2b1-i...|HTqXI5S2XcSlh_ylx...| Termini Bros Bakery|         5.0|     7674.0|         2777.0|\n",
      "|UsBxLh14sUpO8Sdeq...|Wy8Hswf2cLQGRZN6a...|     Jack in the Box|         1.0|    72445.0|        15115.0|\n",
      "|qVYilGRmY6uemAy_t...|9OtFX3YzG5keaUMOW...|           Champions|         5.0|   115248.0|        17720.0|\n",
      "|kHmXUEOAsIbguUrPo...|iD25g7vUG3asELjXt...|    Taqueria del Sol|         2.0|     1641.0|        18017.0|\n",
      "|C_2mNjl-doRVvsL03...|18eWJFJbXyR9j_5xf...|       Siam Elephant|         4.0|    35629.0|         3053.0|\n",
      "|4ubLHlnMFFw4JikcX...|f4PA-f1tcN1bIpZJL...|        Deccan Spice|         5.0|   247073.0|         3373.0|\n",
      "|xE7AXFF9wVaN6id6O...|D5V0Fawd6ODVgqCY8...|Loews Philadelphi...|         4.0|   589043.0|         1570.0|\n",
      "+--------------------+--------------------+--------------------+------------+-----------+---------------+\n",
      "only showing top 20 rows\n",
      "\n"
     ]
    }
   ],
   "source": [
    "business_id_indexer = StringIndexer(inputCol=\"business_id\", outputCol=\"business_id_int\") \n",
    "df_als = business_id_indexer.fit(user_id_indexed).transform(user_id_indexed) \n",
    "df_als.show()"
   ]
  },
  {
   "cell_type": "code",
   "execution_count": 24,
   "id": "1cd6529d-54c1-4431-908a-b6294c747636",
   "metadata": {
    "tags": []
   },
   "outputs": [],
   "source": [
    "from pyspark.sql.types import IntegerType\n",
    "df_als = df_als.withColumn(\"user_id_int\", df_als[\"user_id_int\"].cast(IntegerType()))\n",
    "df_als = df_als.withColumn(\"business_id_int\", df_als[\"business_id_int\"].cast(IntegerType()))"
   ]
  },
  {
   "cell_type": "code",
   "execution_count": 25,
   "id": "4682e52b-50de-420e-bfe8-c68713fd279d",
   "metadata": {
    "tags": []
   },
   "outputs": [
    {
     "name": "stdout",
     "output_type": "stream",
     "text": [
      "+--------------------+--------------------+---------------+------------+-----------+---------------+\n",
      "|             user_id|         business_id|  business_name|review_stars|user_id_int|business_id_int|\n",
      "+--------------------+--------------------+---------------+------------+-----------+---------------+\n",
      "|_7bHUi9Uuf5__HHc_...|kxX2SOes4o-D3ZQBk...|          Zaika|         5.0|     440047|           3634|\n",
      "|bcjbaE6dDog4jkNY9...|e4Vwtrqf-wpJfwesg...|           Melt|         4.0|       8524|          22766|\n",
      "|eUta8W_HdHMXPzLBB...|04UD14gamNjLY0IDY...|       Dmitri's|         1.0|     473296|           2474|\n",
      "|yfFzsLmaWF2d4Sr0U...|LHSTtnW3YHCeUkRDG...|Fries Rebellion|         5.0|     598073|           9010|\n",
      "|j2wlzrntrbKwyOcOi...|rBdG_23USc7DletfZ...|           Olio|         4.0|       4689|           2144|\n",
      "+--------------------+--------------------+---------------+------------+-----------+---------------+\n",
      "only showing top 5 rows\n",
      "\n"
     ]
    }
   ],
   "source": [
    "df_als.show(5)"
   ]
  },
  {
   "cell_type": "code",
   "execution_count": 27,
   "id": "d3fbf7ab-32ca-4f91-ae9e-7f3797a05a20",
   "metadata": {
    "tags": []
   },
   "outputs": [],
   "source": [
    "df_als = df_als.drop('business_id','user_id','business_name')"
   ]
  },
  {
   "cell_type": "code",
   "execution_count": 30,
   "id": "32f96686-dfda-4289-9e20-7c0e247c00e1",
   "metadata": {
    "tags": []
   },
   "outputs": [],
   "source": [
    "df_als = df_als.sample(fraction=0.1)"
   ]
  },
  {
   "cell_type": "code",
   "execution_count": 31,
   "id": "3d7fff28-551a-49a7-a4dd-64c4e0a07637",
   "metadata": {
    "tags": []
   },
   "outputs": [
    {
     "name": "stdout",
     "output_type": "stream",
     "text": [
      "(52044, 3)\n"
     ]
    }
   ],
   "source": [
    "print((df_als.count(), len(df_als.columns)))"
   ]
  },
  {
   "cell_type": "code",
   "execution_count": 32,
   "id": "015cfa19-c99c-401d-a1e4-961201cd6b35",
   "metadata": {
    "tags": []
   },
   "outputs": [
    {
     "name": "stderr",
     "output_type": "stream",
     "text": [
      "ERROR:root:Exception while sending command.\n",
      "Traceback (most recent call last):\n",
      "  File \"/opt/conda/lib/python3.10/site-packages/IPython/core/interactiveshell.py\", line 3460, in run_code\n",
      "    exec(code_obj, self.user_global_ns, self.user_ns)\n",
      "  File \"/tmp/ipykernel_747/3596533824.py\", line 5, in <module>\n",
      "    model = als.fit(train_df)\n",
      "  File \"/usr/local/spark/python/pyspark/ml/base.py\", line 205, in fit\n",
      "    return self._fit(dataset)\n",
      "  File \"/usr/local/spark/python/pyspark/ml/wrapper.py\", line 383, in _fit\n",
      "    java_model = self._fit_java(dataset)\n",
      "  File \"/usr/local/spark/python/pyspark/ml/wrapper.py\", line 380, in _fit_java\n",
      "    return self._java_obj.fit(dataset._jdf)\n",
      "  File \"/usr/local/spark/python/lib/py4j-0.10.9.5-src.zip/py4j/java_gateway.py\", line 1321, in __call__\n",
      "    return_value = get_return_value(\n",
      "  File \"/usr/local/spark/python/pyspark/sql/utils.py\", line 190, in deco\n",
      "    return f(*a, **kw)\n",
      "  File \"/usr/local/spark/python/lib/py4j-0.10.9.5-src.zip/py4j/protocol.py\", line 326, in get_return_value\n",
      "    raise Py4JJavaError(\n",
      "py4j.protocol.Py4JJavaError: <unprintable Py4JJavaError object>\n",
      "\n",
      "During handling of the above exception, another exception occurred:\n",
      "\n",
      "Traceback (most recent call last):\n",
      "  File \"/usr/local/spark/python/lib/py4j-0.10.9.5-src.zip/py4j/clientserver.py\", line 511, in send_command\n",
      "    answer = smart_decode(self.stream.readline()[:-1])\n",
      "  File \"/opt/conda/lib/python3.10/socket.py\", line 705, in readinto\n",
      "    return self._sock.recv_into(b)\n",
      "ConnectionResetError: [Errno 104] Connection reset by peer\n",
      "\n",
      "During handling of the above exception, another exception occurred:\n",
      "\n",
      "Traceback (most recent call last):\n",
      "  File \"/usr/local/spark/python/lib/py4j-0.10.9.5-src.zip/py4j/java_gateway.py\", line 1038, in send_command\n",
      "    response = connection.send_command(command)\n",
      "  File \"/usr/local/spark/python/lib/py4j-0.10.9.5-src.zip/py4j/clientserver.py\", line 539, in send_command\n",
      "    raise Py4JNetworkError(\n",
      "py4j.protocol.Py4JNetworkError: Error while sending or receiving\n",
      "ERROR:root:Exception while sending command.\n",
      "Traceback (most recent call last):\n",
      "  File \"/usr/local/spark/python/lib/py4j-0.10.9.5-src.zip/py4j/clientserver.py\", line 516, in send_command\n",
      "    raise Py4JNetworkError(\"Answer from Java side is empty\")\n",
      "py4j.protocol.Py4JNetworkError: Answer from Java side is empty\n",
      "\n",
      "During handling of the above exception, another exception occurred:\n",
      "\n",
      "Traceback (most recent call last):\n",
      "  File \"/usr/local/spark/python/lib/py4j-0.10.9.5-src.zip/py4j/java_gateway.py\", line 1038, in send_command\n",
      "    response = connection.send_command(command)\n",
      "  File \"/usr/local/spark/python/lib/py4j-0.10.9.5-src.zip/py4j/clientserver.py\", line 539, in send_command\n",
      "    raise Py4JNetworkError(\n",
      "py4j.protocol.Py4JNetworkError: Error while sending or receiving\n"
     ]
    },
    {
     "ename": "ConnectionRefusedError",
     "evalue": "[Errno 111] Connection refused",
     "output_type": "error",
     "traceback": [
      "\u001b[0;31m\u001b[0m",
      "\u001b[0;31mPy4JJavaError\u001b[0mTraceback (most recent call last)",
      "    \u001b[0;31m[... skipping hidden 1 frame]\u001b[0m\n",
      "Cell \u001b[0;32mIn[32], line 5\u001b[0m\n\u001b[1;32m      4\u001b[0m \u001b[38;5;66;03m#fit and predict\u001b[39;00m\n\u001b[0;32m----> 5\u001b[0m model \u001b[38;5;241m=\u001b[39m \u001b[43mals\u001b[49m\u001b[38;5;241;43m.\u001b[39;49m\u001b[43mfit\u001b[49m\u001b[43m(\u001b[49m\u001b[43mtrain_df\u001b[49m\u001b[43m)\u001b[49m\n\u001b[1;32m      6\u001b[0m predictions \u001b[38;5;241m=\u001b[39m model\u001b[38;5;241m.\u001b[39mtransform(test_df)\n",
      "File \u001b[0;32m/usr/local/spark/python/pyspark/ml/base.py:205\u001b[0m, in \u001b[0;36mEstimator.fit\u001b[0;34m(self, dataset, params)\u001b[0m\n\u001b[1;32m    204\u001b[0m     \u001b[38;5;28;01melse\u001b[39;00m:\n\u001b[0;32m--> 205\u001b[0m         \u001b[38;5;28;01mreturn\u001b[39;00m \u001b[38;5;28;43mself\u001b[39;49m\u001b[38;5;241;43m.\u001b[39;49m\u001b[43m_fit\u001b[49m\u001b[43m(\u001b[49m\u001b[43mdataset\u001b[49m\u001b[43m)\u001b[49m\n\u001b[1;32m    206\u001b[0m \u001b[38;5;28;01melse\u001b[39;00m:\n",
      "File \u001b[0;32m/usr/local/spark/python/pyspark/ml/wrapper.py:383\u001b[0m, in \u001b[0;36mJavaEstimator._fit\u001b[0;34m(self, dataset)\u001b[0m\n\u001b[1;32m    382\u001b[0m \u001b[38;5;28;01mdef\u001b[39;00m \u001b[38;5;21m_fit\u001b[39m(\u001b[38;5;28mself\u001b[39m, dataset: DataFrame) \u001b[38;5;241m-\u001b[39m\u001b[38;5;241m>\u001b[39m JM:\n\u001b[0;32m--> 383\u001b[0m     java_model \u001b[38;5;241m=\u001b[39m \u001b[38;5;28;43mself\u001b[39;49m\u001b[38;5;241;43m.\u001b[39;49m\u001b[43m_fit_java\u001b[49m\u001b[43m(\u001b[49m\u001b[43mdataset\u001b[49m\u001b[43m)\u001b[49m\n\u001b[1;32m    384\u001b[0m     model \u001b[38;5;241m=\u001b[39m \u001b[38;5;28mself\u001b[39m\u001b[38;5;241m.\u001b[39m_create_model(java_model)\n",
      "File \u001b[0;32m/usr/local/spark/python/pyspark/ml/wrapper.py:380\u001b[0m, in \u001b[0;36mJavaEstimator._fit_java\u001b[0;34m(self, dataset)\u001b[0m\n\u001b[1;32m    379\u001b[0m \u001b[38;5;28mself\u001b[39m\u001b[38;5;241m.\u001b[39m_transfer_params_to_java()\n\u001b[0;32m--> 380\u001b[0m \u001b[38;5;28;01mreturn\u001b[39;00m \u001b[38;5;28;43mself\u001b[39;49m\u001b[38;5;241;43m.\u001b[39;49m\u001b[43m_java_obj\u001b[49m\u001b[38;5;241;43m.\u001b[39;49m\u001b[43mfit\u001b[49m\u001b[43m(\u001b[49m\u001b[43mdataset\u001b[49m\u001b[38;5;241;43m.\u001b[39;49m\u001b[43m_jdf\u001b[49m\u001b[43m)\u001b[49m\n",
      "File \u001b[0;32m/usr/local/spark/python/lib/py4j-0.10.9.5-src.zip/py4j/java_gateway.py:1321\u001b[0m, in \u001b[0;36mJavaMember.__call__\u001b[0;34m(self, *args)\u001b[0m\n\u001b[1;32m   1320\u001b[0m answer \u001b[38;5;241m=\u001b[39m \u001b[38;5;28mself\u001b[39m\u001b[38;5;241m.\u001b[39mgateway_client\u001b[38;5;241m.\u001b[39msend_command(command)\n\u001b[0;32m-> 1321\u001b[0m return_value \u001b[38;5;241m=\u001b[39m \u001b[43mget_return_value\u001b[49m\u001b[43m(\u001b[49m\n\u001b[1;32m   1322\u001b[0m \u001b[43m    \u001b[49m\u001b[43manswer\u001b[49m\u001b[43m,\u001b[49m\u001b[43m \u001b[49m\u001b[38;5;28;43mself\u001b[39;49m\u001b[38;5;241;43m.\u001b[39;49m\u001b[43mgateway_client\u001b[49m\u001b[43m,\u001b[49m\u001b[43m \u001b[49m\u001b[38;5;28;43mself\u001b[39;49m\u001b[38;5;241;43m.\u001b[39;49m\u001b[43mtarget_id\u001b[49m\u001b[43m,\u001b[49m\u001b[43m \u001b[49m\u001b[38;5;28;43mself\u001b[39;49m\u001b[38;5;241;43m.\u001b[39;49m\u001b[43mname\u001b[49m\u001b[43m)\u001b[49m\n\u001b[1;32m   1324\u001b[0m \u001b[38;5;28;01mfor\u001b[39;00m temp_arg \u001b[38;5;129;01min\u001b[39;00m temp_args:\n",
      "File \u001b[0;32m/usr/local/spark/python/pyspark/sql/utils.py:190\u001b[0m, in \u001b[0;36mcapture_sql_exception.<locals>.deco\u001b[0;34m(*a, **kw)\u001b[0m\n\u001b[1;32m    189\u001b[0m \u001b[38;5;28;01mtry\u001b[39;00m:\n\u001b[0;32m--> 190\u001b[0m     \u001b[38;5;28;01mreturn\u001b[39;00m \u001b[43mf\u001b[49m\u001b[43m(\u001b[49m\u001b[38;5;241;43m*\u001b[39;49m\u001b[43ma\u001b[49m\u001b[43m,\u001b[49m\u001b[43m \u001b[49m\u001b[38;5;241;43m*\u001b[39;49m\u001b[38;5;241;43m*\u001b[39;49m\u001b[43mkw\u001b[49m\u001b[43m)\u001b[49m\n\u001b[1;32m    191\u001b[0m \u001b[38;5;28;01mexcept\u001b[39;00m Py4JJavaError \u001b[38;5;28;01mas\u001b[39;00m e:\n",
      "File \u001b[0;32m/usr/local/spark/python/lib/py4j-0.10.9.5-src.zip/py4j/protocol.py:326\u001b[0m, in \u001b[0;36mget_return_value\u001b[0;34m(answer, gateway_client, target_id, name)\u001b[0m\n\u001b[1;32m    325\u001b[0m \u001b[38;5;28;01mif\u001b[39;00m answer[\u001b[38;5;241m1\u001b[39m] \u001b[38;5;241m==\u001b[39m REFERENCE_TYPE:\n\u001b[0;32m--> 326\u001b[0m     \u001b[38;5;28;01mraise\u001b[39;00m Py4JJavaError(\n\u001b[1;32m    327\u001b[0m         \u001b[38;5;124m\"\u001b[39m\u001b[38;5;124mAn error occurred while calling \u001b[39m\u001b[38;5;132;01m{0}\u001b[39;00m\u001b[38;5;132;01m{1}\u001b[39;00m\u001b[38;5;132;01m{2}\u001b[39;00m\u001b[38;5;124m.\u001b[39m\u001b[38;5;130;01m\\n\u001b[39;00m\u001b[38;5;124m\"\u001b[39m\u001b[38;5;241m.\u001b[39m\n\u001b[1;32m    328\u001b[0m         \u001b[38;5;28mformat\u001b[39m(target_id, \u001b[38;5;124m\"\u001b[39m\u001b[38;5;124m.\u001b[39m\u001b[38;5;124m\"\u001b[39m, name), value)\n\u001b[1;32m    329\u001b[0m \u001b[38;5;28;01melse\u001b[39;00m:\n",
      "\u001b[0;31m<class 'str'>\u001b[0m: (<class 'ConnectionRefusedError'>, ConnectionRefusedError(111, 'Connection refused'))",
      "\nDuring handling of the above exception, another exception occurred:\n",
      "\u001b[0;31mConnectionRefusedError\u001b[0mTraceback (most recent call last)",
      "    \u001b[0;31m[... skipping hidden 1 frame]\u001b[0m\n",
      "File \u001b[0;32m/opt/conda/lib/python3.10/site-packages/IPython/core/interactiveshell.py:2068\u001b[0m, in \u001b[0;36mInteractiveShell.showtraceback\u001b[0;34m(self, exc_tuple, filename, tb_offset, exception_only, running_compiled_code)\u001b[0m\n\u001b[1;32m   2065\u001b[0m     traceback\u001b[38;5;241m.\u001b[39mprint_exc()\n\u001b[1;32m   2066\u001b[0m     \u001b[38;5;28;01mreturn\u001b[39;00m \u001b[38;5;28;01mNone\u001b[39;00m\n\u001b[0;32m-> 2068\u001b[0m \u001b[38;5;28;43mself\u001b[39;49m\u001b[38;5;241;43m.\u001b[39;49m\u001b[43m_showtraceback\u001b[49m\u001b[43m(\u001b[49m\u001b[43metype\u001b[49m\u001b[43m,\u001b[49m\u001b[43m \u001b[49m\u001b[43mvalue\u001b[49m\u001b[43m,\u001b[49m\u001b[43m \u001b[49m\u001b[43mstb\u001b[49m\u001b[43m)\u001b[49m\n\u001b[1;32m   2069\u001b[0m \u001b[38;5;28;01mif\u001b[39;00m \u001b[38;5;28mself\u001b[39m\u001b[38;5;241m.\u001b[39mcall_pdb:\n\u001b[1;32m   2070\u001b[0m     \u001b[38;5;66;03m# drop into debugger\u001b[39;00m\n\u001b[1;32m   2071\u001b[0m     \u001b[38;5;28mself\u001b[39m\u001b[38;5;241m.\u001b[39mdebugger(force\u001b[38;5;241m=\u001b[39m\u001b[38;5;28;01mTrue\u001b[39;00m)\n",
      "File \u001b[0;32m/opt/conda/lib/python3.10/site-packages/ipykernel/zmqshell.py:550\u001b[0m, in \u001b[0;36mZMQInteractiveShell._showtraceback\u001b[0;34m(self, etype, evalue, stb)\u001b[0m\n\u001b[1;32m    544\u001b[0m sys\u001b[38;5;241m.\u001b[39mstdout\u001b[38;5;241m.\u001b[39mflush()\n\u001b[1;32m    545\u001b[0m sys\u001b[38;5;241m.\u001b[39mstderr\u001b[38;5;241m.\u001b[39mflush()\n\u001b[1;32m    547\u001b[0m exc_content \u001b[38;5;241m=\u001b[39m {\n\u001b[1;32m    548\u001b[0m     \u001b[38;5;124m\"\u001b[39m\u001b[38;5;124mtraceback\u001b[39m\u001b[38;5;124m\"\u001b[39m: stb,\n\u001b[1;32m    549\u001b[0m     \u001b[38;5;124m\"\u001b[39m\u001b[38;5;124mename\u001b[39m\u001b[38;5;124m\"\u001b[39m: \u001b[38;5;28mstr\u001b[39m(etype\u001b[38;5;241m.\u001b[39m\u001b[38;5;18m__name__\u001b[39m),\n\u001b[0;32m--> 550\u001b[0m     \u001b[38;5;124m\"\u001b[39m\u001b[38;5;124mevalue\u001b[39m\u001b[38;5;124m\"\u001b[39m: \u001b[38;5;28;43mstr\u001b[39;49m\u001b[43m(\u001b[49m\u001b[43mevalue\u001b[49m\u001b[43m)\u001b[49m,\n\u001b[1;32m    551\u001b[0m }\n\u001b[1;32m    553\u001b[0m dh \u001b[38;5;241m=\u001b[39m \u001b[38;5;28mself\u001b[39m\u001b[38;5;241m.\u001b[39mdisplayhook\n\u001b[1;32m    554\u001b[0m \u001b[38;5;66;03m# Send exception info over pub socket for other clients than the caller\u001b[39;00m\n\u001b[1;32m    555\u001b[0m \u001b[38;5;66;03m# to pick up\u001b[39;00m\n",
      "File \u001b[0;32m/usr/local/spark/python/lib/py4j-0.10.9.5-src.zip/py4j/protocol.py:471\u001b[0m, in \u001b[0;36mPy4JJavaError.__str__\u001b[0;34m(self)\u001b[0m\n\u001b[1;32m    469\u001b[0m \u001b[38;5;28;01mdef\u001b[39;00m \u001b[38;5;21m__str__\u001b[39m(\u001b[38;5;28mself\u001b[39m):\n\u001b[1;32m    470\u001b[0m     gateway_client \u001b[38;5;241m=\u001b[39m \u001b[38;5;28mself\u001b[39m\u001b[38;5;241m.\u001b[39mjava_exception\u001b[38;5;241m.\u001b[39m_gateway_client\n\u001b[0;32m--> 471\u001b[0m     answer \u001b[38;5;241m=\u001b[39m \u001b[43mgateway_client\u001b[49m\u001b[38;5;241;43m.\u001b[39;49m\u001b[43msend_command\u001b[49m\u001b[43m(\u001b[49m\u001b[38;5;28;43mself\u001b[39;49m\u001b[38;5;241;43m.\u001b[39;49m\u001b[43mexception_cmd\u001b[49m\u001b[43m)\u001b[49m\n\u001b[1;32m    472\u001b[0m     return_value \u001b[38;5;241m=\u001b[39m get_return_value(answer, gateway_client, \u001b[38;5;28;01mNone\u001b[39;00m, \u001b[38;5;28;01mNone\u001b[39;00m)\n\u001b[1;32m    473\u001b[0m     \u001b[38;5;66;03m# Note: technically this should return a bytestring 'str' rather than\u001b[39;00m\n\u001b[1;32m    474\u001b[0m     \u001b[38;5;66;03m# unicodes in Python 2; however, it can return unicodes for now.\u001b[39;00m\n\u001b[1;32m    475\u001b[0m     \u001b[38;5;66;03m# See https://github.com/bartdag/py4j/issues/306 for more details.\u001b[39;00m\n",
      "File \u001b[0;32m/usr/local/spark/python/lib/py4j-0.10.9.5-src.zip/py4j/java_gateway.py:1036\u001b[0m, in \u001b[0;36mGatewayClient.send_command\u001b[0;34m(self, command, retry, binary)\u001b[0m\n\u001b[1;32m   1015\u001b[0m \u001b[38;5;28;01mdef\u001b[39;00m \u001b[38;5;21msend_command\u001b[39m(\u001b[38;5;28mself\u001b[39m, command, retry\u001b[38;5;241m=\u001b[39m\u001b[38;5;28;01mTrue\u001b[39;00m, binary\u001b[38;5;241m=\u001b[39m\u001b[38;5;28;01mFalse\u001b[39;00m):\n\u001b[1;32m   1016\u001b[0m \u001b[38;5;250m    \u001b[39m\u001b[38;5;124;03m\"\"\"Sends a command to the JVM. This method is not intended to be\u001b[39;00m\n\u001b[1;32m   1017\u001b[0m \u001b[38;5;124;03m       called directly by Py4J users. It is usually called by\u001b[39;00m\n\u001b[1;32m   1018\u001b[0m \u001b[38;5;124;03m       :class:`JavaMember` instances.\u001b[39;00m\n\u001b[0;32m   (...)\u001b[0m\n\u001b[1;32m   1034\u001b[0m \u001b[38;5;124;03m     if `binary` is `True`.\u001b[39;00m\n\u001b[1;32m   1035\u001b[0m \u001b[38;5;124;03m    \"\"\"\u001b[39;00m\n\u001b[0;32m-> 1036\u001b[0m     connection \u001b[38;5;241m=\u001b[39m \u001b[38;5;28;43mself\u001b[39;49m\u001b[38;5;241;43m.\u001b[39;49m\u001b[43m_get_connection\u001b[49m\u001b[43m(\u001b[49m\u001b[43m)\u001b[49m\n\u001b[1;32m   1037\u001b[0m     \u001b[38;5;28;01mtry\u001b[39;00m:\n\u001b[1;32m   1038\u001b[0m         response \u001b[38;5;241m=\u001b[39m connection\u001b[38;5;241m.\u001b[39msend_command(command)\n",
      "File \u001b[0;32m/usr/local/spark/python/lib/py4j-0.10.9.5-src.zip/py4j/clientserver.py:284\u001b[0m, in \u001b[0;36mJavaClient._get_connection\u001b[0;34m(self)\u001b[0m\n\u001b[1;32m    281\u001b[0m     \u001b[38;5;28;01mpass\u001b[39;00m\n\u001b[1;32m    283\u001b[0m \u001b[38;5;28;01mif\u001b[39;00m connection \u001b[38;5;129;01mis\u001b[39;00m \u001b[38;5;28;01mNone\u001b[39;00m \u001b[38;5;129;01mor\u001b[39;00m connection\u001b[38;5;241m.\u001b[39msocket \u001b[38;5;129;01mis\u001b[39;00m \u001b[38;5;28;01mNone\u001b[39;00m:\n\u001b[0;32m--> 284\u001b[0m     connection \u001b[38;5;241m=\u001b[39m \u001b[38;5;28;43mself\u001b[39;49m\u001b[38;5;241;43m.\u001b[39;49m\u001b[43m_create_new_connection\u001b[49m\u001b[43m(\u001b[49m\u001b[43m)\u001b[49m\n\u001b[1;32m    285\u001b[0m \u001b[38;5;28;01mreturn\u001b[39;00m connection\n",
      "File \u001b[0;32m/usr/local/spark/python/lib/py4j-0.10.9.5-src.zip/py4j/clientserver.py:291\u001b[0m, in \u001b[0;36mJavaClient._create_new_connection\u001b[0;34m(self)\u001b[0m\n\u001b[1;32m    287\u001b[0m \u001b[38;5;28;01mdef\u001b[39;00m \u001b[38;5;21m_create_new_connection\u001b[39m(\u001b[38;5;28mself\u001b[39m):\n\u001b[1;32m    288\u001b[0m     connection \u001b[38;5;241m=\u001b[39m ClientServerConnection(\n\u001b[1;32m    289\u001b[0m         \u001b[38;5;28mself\u001b[39m\u001b[38;5;241m.\u001b[39mjava_parameters, \u001b[38;5;28mself\u001b[39m\u001b[38;5;241m.\u001b[39mpython_parameters,\n\u001b[1;32m    290\u001b[0m         \u001b[38;5;28mself\u001b[39m\u001b[38;5;241m.\u001b[39mgateway_property, \u001b[38;5;28mself\u001b[39m)\n\u001b[0;32m--> 291\u001b[0m     \u001b[43mconnection\u001b[49m\u001b[38;5;241;43m.\u001b[39;49m\u001b[43mconnect_to_java_server\u001b[49m\u001b[43m(\u001b[49m\u001b[43m)\u001b[49m\n\u001b[1;32m    292\u001b[0m     \u001b[38;5;28mself\u001b[39m\u001b[38;5;241m.\u001b[39mset_thread_connection(connection)\n\u001b[1;32m    293\u001b[0m     \u001b[38;5;28;01mreturn\u001b[39;00m connection\n",
      "File \u001b[0;32m/usr/local/spark/python/lib/py4j-0.10.9.5-src.zip/py4j/clientserver.py:438\u001b[0m, in \u001b[0;36mClientServerConnection.connect_to_java_server\u001b[0;34m(self)\u001b[0m\n\u001b[1;32m    435\u001b[0m \u001b[38;5;28;01mif\u001b[39;00m \u001b[38;5;28mself\u001b[39m\u001b[38;5;241m.\u001b[39mssl_context:\n\u001b[1;32m    436\u001b[0m     \u001b[38;5;28mself\u001b[39m\u001b[38;5;241m.\u001b[39msocket \u001b[38;5;241m=\u001b[39m \u001b[38;5;28mself\u001b[39m\u001b[38;5;241m.\u001b[39mssl_context\u001b[38;5;241m.\u001b[39mwrap_socket(\n\u001b[1;32m    437\u001b[0m         \u001b[38;5;28mself\u001b[39m\u001b[38;5;241m.\u001b[39msocket, server_hostname\u001b[38;5;241m=\u001b[39m\u001b[38;5;28mself\u001b[39m\u001b[38;5;241m.\u001b[39mjava_address)\n\u001b[0;32m--> 438\u001b[0m \u001b[38;5;28;43mself\u001b[39;49m\u001b[38;5;241;43m.\u001b[39;49m\u001b[43msocket\u001b[49m\u001b[38;5;241;43m.\u001b[39;49m\u001b[43mconnect\u001b[49m\u001b[43m(\u001b[49m\u001b[43m(\u001b[49m\u001b[38;5;28;43mself\u001b[39;49m\u001b[38;5;241;43m.\u001b[39;49m\u001b[43mjava_address\u001b[49m\u001b[43m,\u001b[49m\u001b[43m \u001b[49m\u001b[38;5;28;43mself\u001b[39;49m\u001b[38;5;241;43m.\u001b[39;49m\u001b[43mjava_port\u001b[49m\u001b[43m)\u001b[49m\u001b[43m)\u001b[49m\n\u001b[1;32m    439\u001b[0m \u001b[38;5;28mself\u001b[39m\u001b[38;5;241m.\u001b[39mstream \u001b[38;5;241m=\u001b[39m \u001b[38;5;28mself\u001b[39m\u001b[38;5;241m.\u001b[39msocket\u001b[38;5;241m.\u001b[39mmakefile(\u001b[38;5;124m\"\u001b[39m\u001b[38;5;124mrb\u001b[39m\u001b[38;5;124m\"\u001b[39m)\n\u001b[1;32m    440\u001b[0m \u001b[38;5;28mself\u001b[39m\u001b[38;5;241m.\u001b[39mis_connected \u001b[38;5;241m=\u001b[39m \u001b[38;5;28;01mTrue\u001b[39;00m\n",
      "\u001b[0;31mConnectionRefusedError\u001b[0m: [Errno 111] Connection refused"
     ]
    }
   ],
   "source": [
    "train_df, test_df = df_als.randomSplit([0.7,0.3],seed=1)\n",
    "als = ALS(maxIter=10, regParam=0.01, userCol=\"user_id_int\", itemCol=\"business_id_int\", ratingCol=\"review_stars\",\n",
    "          coldStartStrategy=\"drop\", rank=10, nonnegative = True)\n",
    "#fit and predict\n",
    "model = als.fit(train_df)\n",
    "predictions = model.transform(test_df)"
   ]
  },
  {
   "cell_type": "markdown",
   "id": "87678976-cb12-4bc8-9472-015692c09d85",
   "metadata": {},
   "source": [
    "## Can't run on the local, so I moved this part to GCP"
   ]
  }
 ],
 "metadata": {
  "kernelspec": {
   "display_name": "Python 3 (ipykernel)",
   "language": "python",
   "name": "python3"
  },
  "language_info": {
   "codemirror_mode": {
    "name": "ipython",
    "version": 3
   },
   "file_extension": ".py",
   "mimetype": "text/x-python",
   "name": "python",
   "nbconvert_exporter": "python",
   "pygments_lexer": "ipython3",
   "version": "3.10.9"
  }
 },
 "nbformat": 4,
 "nbformat_minor": 5
}
