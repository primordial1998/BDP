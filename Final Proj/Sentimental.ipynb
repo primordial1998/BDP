{
 "cells": [
  {
   "cell_type": "code",
   "execution_count": 17,
   "id": "e2693c99-2f13-47cf-ada9-24a8eddee754",
   "metadata": {
    "tags": []
   },
   "outputs": [],
   "source": [
    "import sqlite3\n",
    "import pandas as pd\n",
    "from pyspark.sql import SparkSession\n",
    "from pyspark.sql import functions as F\n",
    "from pyspark.sql import Row\n",
    "from os import path\n",
    "from pyspark.sql.functions import UserDefinedFunction\n",
    "from pyspark.sql.types import *\n",
    "import seaborn as sns\n",
    "import numpy as np\n",
    "from PIL import Image\n",
    "from wordcloud import STOPWORDS, ImageColorGenerator\n",
    "import matplotlib.pyplot as plt\n",
    "%matplotlib inline\n",
    "import warnings\n",
    "warnings.filterwarnings('ignore')\n",
    "import findspark\n",
    "findspark.init()"
   ]
  },
  {
   "cell_type": "code",
   "execution_count": 18,
   "id": "1d715655-124a-490c-81b7-6360a59f6b66",
   "metadata": {
    "tags": []
   },
   "outputs": [
    {
     "data": {
      "text/plain": [
       "24"
      ]
     },
     "execution_count": 18,
     "metadata": {},
     "output_type": "execute_result"
    }
   ],
   "source": [
    "spark = SparkSession.builder.enableHiveSupport().appName('YelpSentimentalAnalysis').getOrCreate()\n",
    "sc = spark.sparkContext\n",
    "sc.defaultParallelism"
   ]
  },
  {
   "cell_type": "markdown",
   "id": "c93d247a-8ed2-4e5b-8d55-0ad2a1ddeec9",
   "metadata": {},
   "source": [
    "## 1. Data Preparation"
   ]
  },
  {
   "cell_type": "code",
   "execution_count": 19,
   "id": "37e09a25-857f-4ab3-a290-9d33014d926d",
   "metadata": {
    "tags": []
   },
   "outputs": [],
   "source": [
    "df_business = spark.read.json(\"yelp_academic_dataset_business.json\")\n",
    "df_checkin = spark.read.json(\"yelp_academic_dataset_checkin.json\")\n",
    "df_review = spark.read.json(\"yelp_academic_dataset_review.json\")\n",
    "df_tip = spark.read.json(\"yelp_academic_dataset_tip.json\")\n",
    "df_user = spark.read.json(\"yelp_academic_dataset_user.json\")"
   ]
  },
  {
   "cell_type": "code",
   "execution_count": 20,
   "id": "081de2b5-cb1c-4b30-a863-cc2a287e362f",
   "metadata": {
    "tags": []
   },
   "outputs": [],
   "source": [
    "df_business = df_business.withColumnRenamed('stars', 'business_stars')\n",
    "df_review = df_review.withColumnRenamed('stars', 'review_stars')\n",
    "df_review = df_review.withColumnRenamed('business_id', 'review_business_id')\n",
    "columns_to_drop = ['address','postal_code','latitude','longitude','review_count']\n",
    "df_business = df_business.drop(*columns_to_drop)\n",
    "df_business = df_business.filter(df_business.categories.contains('Restaurants'))"
   ]
  },
  {
   "cell_type": "code",
   "execution_count": 21,
   "id": "ff01858e-9a9a-4f88-8541-92e8a3893540",
   "metadata": {
    "tags": []
   },
   "outputs": [],
   "source": [
    "df_business = df_business.withColumnRenamed('name', 'business_name')"
   ]
  },
  {
   "cell_type": "code",
   "execution_count": 22,
   "id": "b20a42d6-865f-43bf-a1dd-8878b8a24c38",
   "metadata": {
    "tags": []
   },
   "outputs": [
    {
     "name": "stdout",
     "output_type": "stream",
     "text": [
      "+--------------------+----+-------------------+-----+--------------------+------------+--------------------+------+--------------------+\n",
      "|  review_business_id|cool|               date|funny|           review_id|review_stars|                text|useful|             user_id|\n",
      "+--------------------+----+-------------------+-----+--------------------+------------+--------------------+------+--------------------+\n",
      "|XQfwVwDr-v0ZS3_Cb...|   0|2018-07-07 22:09:11|    0|KU_O5udG6zpxOg-Vc...|         3.0|If you decide to ...|     0|mh_-eMZ6K5RLWhZyI...|\n",
      "|7ATYjTIgM3jUlt4UM...|   1|2012-01-03 15:28:18|    0|BiTunyQ73aT9WBnpR...|         5.0|I've taken a lot ...|     1|OyoGAe7OKpv6SyGZT...|\n",
      "|YjUWPpI6HXG530lwP...|   0|2014-02-05 20:30:30|    0|saUsX_uimxRlCVr67...|         3.0|Family diner. Had...|     0|8g_iMtfSiwikVnbP2...|\n",
      "|kxX2SOes4o-D3ZQBk...|   1|2015-01-04 00:01:03|    0|AqPFMleE6RsU23_au...|         5.0|Wow!  Yummy, diff...|     1|_7bHUi9Uuf5__HHc_...|\n",
      "|e4Vwtrqf-wpJfwesg...|   1|2017-01-14 20:54:15|    0|Sx8TMOWLNuJBWer-0...|         4.0|Cute interior and...|     1|bcjbaE6dDog4jkNY9...|\n",
      "+--------------------+----+-------------------+-----+--------------------+------------+--------------------+------+--------------------+\n",
      "only showing top 5 rows\n",
      "\n"
     ]
    }
   ],
   "source": [
    "df_review.show(5)"
   ]
  },
  {
   "cell_type": "code",
   "execution_count": 23,
   "id": "fe468758-440b-4219-af26-fdda11197fe7",
   "metadata": {
    "tags": []
   },
   "outputs": [],
   "source": [
    "from pyspark.ml.feature import HashingTF, IDF, Tokenizer,StringIndexer,CountVectorizer\n",
    "import pyspark.mllib.classification\n",
    "from pyspark.sql.functions import udf\n",
    "from pyspark.ml.feature import StopWordsRemover\n",
    "from pyspark.ml import Pipeline\n",
    "import string\n",
    "import re\n",
    "import nltk"
   ]
  },
  {
   "cell_type": "code",
   "execution_count": 24,
   "id": "dea9df48-92b5-430a-818d-2459c69f5002",
   "metadata": {},
   "outputs": [],
   "source": [
    "business_restaurant = df_business.select('business_id', 'categories')\n",
    "\n",
    "\n",
    "# Get all useful reviews, i.e. a review with at least one useful vote and \n",
    "# here we are excluding all neutral reviews as well\n",
    "review_useful = df_review.select('review_business_id', 'review_id', 'review_stars', \n",
    "                              'text', 'useful', 'user_id') \\\n",
    "                      .where(\"useful >= 1 and stars != 3\")\n",
    "\n",
    "\n",
    "# Join the two dataframes above to get all useful reviews for restaurant businesses\n",
    "restaurant_useful_review = business_restaurant.join(review_useful, \n",
    "                                                    [business_restaurant.business_id == review_useful.review_business_id], \n",
    "                                                    how = 'inner')"
   ]
  },
  {
   "cell_type": "code",
   "execution_count": 25,
   "id": "2f77c7bb-96bb-4fa9-b82e-3cc7d17d941b",
   "metadata": {
    "tags": []
   },
   "outputs": [
    {
     "name": "stdout",
     "output_type": "stream",
     "text": [
      "+--------------------+--------------------+--------------------+--------------------+------------+--------------------+------+--------------------+\n",
      "|         business_id|          categories|  review_business_id|           review_id|review_stars|                text|useful|             user_id|\n",
      "+--------------------+--------------------+--------------------+--------------------+------------+--------------------+------+--------------------+\n",
      "|kxX2SOes4o-D3ZQBk...|Halal, Pakistani,...|kxX2SOes4o-D3ZQBk...|AqPFMleE6RsU23_au...|         5.0|Wow!  Yummy, diff...|     1|_7bHUi9Uuf5__HHc_...|\n",
      "|e4Vwtrqf-wpJfwesg...|Sandwiches, Beer,...|e4Vwtrqf-wpJfwesg...|Sx8TMOWLNuJBWer-0...|         4.0|Cute interior and...|     1|bcjbaE6dDog4jkNY9...|\n",
      "|04UD14gamNjLY0IDY...|Mediterranean, Re...|04UD14gamNjLY0IDY...|JrIxlS1TzJ-iCu79u...|         1.0|I am a long term ...|     1|eUta8W_HdHMXPzLBB...|\n",
      "|LHSTtnW3YHCeUkRDG...|Beer Bar, Bars, A...|LHSTtnW3YHCeUkRDG...|_ZeMknuYdlQcUqng_...|         5.0|Amazingly amazing...|     2|yfFzsLmaWF2d4Sr0U...|\n",
      "|rBdG_23USc7DletfZ...|Wine Bars, Bars, ...|rBdG_23USc7DletfZ...|LnGZB0fjfgeVDVz5I...|         4.0|The hubby and I h...|     1|j2wlzrntrbKwyOcOi...|\n",
      "+--------------------+--------------------+--------------------+--------------------+------------+--------------------+------+--------------------+\n",
      "only showing top 5 rows\n",
      "\n"
     ]
    }
   ],
   "source": [
    "restaurant_useful_review.show(5)"
   ]
  },
  {
   "cell_type": "code",
   "execution_count": 26,
   "id": "29058a41-c2f9-4c26-a4e8-aaa3e42e6d34",
   "metadata": {
    "tags": []
   },
   "outputs": [],
   "source": [
    "def convert_rating(rating):\n",
    "    if rating >=4:\n",
    "        return 1\n",
    "    else:\n",
    "        return 0\n",
    "rating_convert = udf(lambda x: convert_rating(x))"
   ]
  },
  {
   "cell_type": "code",
   "execution_count": 27,
   "id": "00ad7fe3-51cb-4d12-82d3-614d73d71e27",
   "metadata": {
    "tags": []
   },
   "outputs": [],
   "source": [
    "#remove punctuations\n",
    "def lower_clean_str(x):\n",
    "    punc='!\"#$%&\\'()*+,-./:;<=>?@[\\\\]^_`{|}~'\n",
    "    lowercased_str = x.lower()\n",
    "    for ch in punc:\n",
    "        lowercased_str = lowercased_str.replace(ch, '')\n",
    "    return lowercased_str\n",
    "\n",
    "punct_remover = udf(lambda x: lower_clean_str(x))"
   ]
  },
  {
   "cell_type": "code",
   "execution_count": 28,
   "id": "5cb4cc40-7573-4fb2-9a51-551b85344999",
   "metadata": {
    "tags": []
   },
   "outputs": [],
   "source": [
    "#remove punctuation and lower \n",
    "df_word = restaurant_useful_review.select('*', punct_remover('text')).drop('text')\n",
    "df_word = df_word.withColumnRenamed('<lambda>(text)', 'text')"
   ]
  },
  {
   "cell_type": "code",
   "execution_count": 29,
   "id": "d3510f9c-49dc-4c4e-ab88-fbc9075ccba7",
   "metadata": {
    "tags": []
   },
   "outputs": [
    {
     "name": "stdout",
     "output_type": "stream",
     "text": [
      "+--------------------+--------------------+--------------------+--------------------+------------+------+--------------------+--------------------+\n",
      "|         business_id|          categories|  review_business_id|           review_id|review_stars|useful|             user_id|                text|\n",
      "+--------------------+--------------------+--------------------+--------------------+------------+------+--------------------+--------------------+\n",
      "|kxX2SOes4o-D3ZQBk...|Halal, Pakistani,...|kxX2SOes4o-D3ZQBk...|AqPFMleE6RsU23_au...|         5.0|     1|_7bHUi9Uuf5__HHc_...|wow  yummy differ...|\n",
      "|e4Vwtrqf-wpJfwesg...|Sandwiches, Beer,...|e4Vwtrqf-wpJfwesg...|Sx8TMOWLNuJBWer-0...|         4.0|     1|bcjbaE6dDog4jkNY9...|cute interior and...|\n",
      "|04UD14gamNjLY0IDY...|Mediterranean, Re...|04UD14gamNjLY0IDY...|JrIxlS1TzJ-iCu79u...|         1.0|     1|eUta8W_HdHMXPzLBB...|i am a long term ...|\n",
      "|LHSTtnW3YHCeUkRDG...|Beer Bar, Bars, A...|LHSTtnW3YHCeUkRDG...|_ZeMknuYdlQcUqng_...|         5.0|     2|yfFzsLmaWF2d4Sr0U...|amazingly amazing...|\n",
      "|rBdG_23USc7DletfZ...|Wine Bars, Bars, ...|rBdG_23USc7DletfZ...|LnGZB0fjfgeVDVz5I...|         4.0|     1|j2wlzrntrbKwyOcOi...|the hubby and i h...|\n",
      "+--------------------+--------------------+--------------------+--------------------+------------+------+--------------------+--------------------+\n",
      "only showing top 5 rows\n",
      "\n"
     ]
    }
   ],
   "source": [
    "df_word.show(5)"
   ]
  },
  {
   "cell_type": "markdown",
   "id": "e90c31d0-c944-43b5-88c9-007e560c4ff3",
   "metadata": {},
   "source": [
    "## Possible Word Cloud"
   ]
  },
  {
   "cell_type": "code",
   "execution_count": null,
   "id": "c0ce99eb-98b4-4f70-96c4-558b24db01c1",
   "metadata": {
    "tags": []
   },
   "outputs": [],
   "source": []
  },
  {
   "cell_type": "markdown",
   "id": "f785d879-d535-43c4-b87e-a07ed720fd82",
   "metadata": {},
   "source": [
    "## 2. Sentimental Analysis by NLP"
   ]
  },
  {
   "cell_type": "code",
   "execution_count": 30,
   "id": "1ae9d4b0-61de-4453-af13-831530ad4ab7",
   "metadata": {
    "tags": []
   },
   "outputs": [
    {
     "name": "stdout",
     "output_type": "stream",
     "text": [
      "+--------------------+--------------------+--------------------+--------------------+------------+------+--------------------+--------------------+-----+\n",
      "|         business_id|          categories|  review_business_id|           review_id|review_stars|useful|             user_id|                text|label|\n",
      "+--------------------+--------------------+--------------------+--------------------+------------+------+--------------------+--------------------+-----+\n",
      "|kxX2SOes4o-D3ZQBk...|Halal, Pakistani,...|kxX2SOes4o-D3ZQBk...|AqPFMleE6RsU23_au...|         5.0|     1|_7bHUi9Uuf5__HHc_...|wow  yummy differ...|    1|\n",
      "|e4Vwtrqf-wpJfwesg...|Sandwiches, Beer,...|e4Vwtrqf-wpJfwesg...|Sx8TMOWLNuJBWer-0...|         4.0|     1|bcjbaE6dDog4jkNY9...|cute interior and...|    1|\n",
      "|04UD14gamNjLY0IDY...|Mediterranean, Re...|04UD14gamNjLY0IDY...|JrIxlS1TzJ-iCu79u...|         1.0|     1|eUta8W_HdHMXPzLBB...|i am a long term ...|    0|\n",
      "|LHSTtnW3YHCeUkRDG...|Beer Bar, Bars, A...|LHSTtnW3YHCeUkRDG...|_ZeMknuYdlQcUqng_...|         5.0|     2|yfFzsLmaWF2d4Sr0U...|amazingly amazing...|    1|\n",
      "|rBdG_23USc7DletfZ...|Wine Bars, Bars, ...|rBdG_23USc7DletfZ...|LnGZB0fjfgeVDVz5I...|         4.0|     1|j2wlzrntrbKwyOcOi...|the hubby and i h...|    1|\n",
      "+--------------------+--------------------+--------------------+--------------------+------------+------+--------------------+--------------------+-----+\n",
      "only showing top 5 rows\n",
      "\n"
     ]
    }
   ],
   "source": [
    "df_NLP =df_word.select('*',rating_convert('review_stars'))\n",
    "df_NLP = df_NLP.withColumnRenamed('<lambda>(review_stars)', 'label')\n",
    "df_NLP.show(5)"
   ]
  },
  {
   "cell_type": "code",
   "execution_count": 31,
   "id": "44b1c9e1-1b7e-4078-9887-37a1484bc7c8",
   "metadata": {
    "tags": []
   },
   "outputs": [],
   "source": [
    "#tokenize words\n",
    "tokenizer = Tokenizer(inputCol=\"text\", outputCol=\"words\")\n",
    "#remove stop words\n",
    "remover = StopWordsRemover(inputCol=\"words\", outputCol=\"filtered\")\n",
    "\n",
    "# Build the pipeline \n",
    "pipeline = Pipeline(stages=[tokenizer,remover])\n",
    "# Fit the pipeline \n",
    "df_NLP = pipeline.fit(df_NLP).transform(df_NLP)"
   ]
  },
  {
   "cell_type": "markdown",
   "id": "10d18a64-64b7-4e6e-8a2e-574272d12fd5",
   "metadata": {},
   "source": [
    "## 2.1 Hashing-TF"
   ]
  },
  {
   "cell_type": "markdown",
   "id": "4f3a1951-3248-497c-a7e9-564bcac84f0a",
   "metadata": {},
   "source": [
    "1). Data Manipulation"
   ]
  },
  {
   "cell_type": "code",
   "execution_count": 32,
   "id": "8e3da9b0-c0eb-4d59-81fc-afc076d2d4be",
   "metadata": {
    "tags": []
   },
   "outputs": [],
   "source": [
    "# #Maps a sequence of terms to their term frequencies using the hashing trick. \n",
    "hashingTF = HashingTF(inputCol=\"filtered\", outputCol=\"rawFeatures\", numFeatures=1000)\n",
    "idf = IDF(inputCol=\"rawFeatures\", outputCol=\"features\")\n",
    "# Build the pipeline \n",
    "pipeline = Pipeline(stages=[hashingTF,idf])\n",
    "# Fit the pipeline \n",
    "encodedData_hasingTF = pipeline.fit(df_NLP).transform(df_NLP)"
   ]
  },
  {
   "cell_type": "code",
   "execution_count": 33,
   "id": "5bd6ced4-8daa-4010-a033-84cfcaec23ad",
   "metadata": {
    "tags": []
   },
   "outputs": [
    {
     "name": "stdout",
     "output_type": "stream",
     "text": [
      "+--------------------+--------------------+--------------------+--------------------+------------+------+--------------------+--------------------+-----+--------------------+--------------------+--------------------+--------------------+\n",
      "|         business_id|          categories|  review_business_id|           review_id|review_stars|useful|             user_id|                text|label|               words|            filtered|         rawFeatures|            features|\n",
      "+--------------------+--------------------+--------------------+--------------------+------------+------+--------------------+--------------------+-----+--------------------+--------------------+--------------------+--------------------+\n",
      "|kxX2SOes4o-D3ZQBk...|Halal, Pakistani,...|kxX2SOes4o-D3ZQBk...|AqPFMleE6RsU23_au...|         5.0|     1|_7bHUi9Uuf5__HHc_...|wow  yummy differ...|    1|[wow, , yummy, di...|[wow, , yummy, di...|(1000,[86,251,267...|(1000,[86,251,267...|\n",
      "|e4Vwtrqf-wpJfwesg...|Sandwiches, Beer,...|e4Vwtrqf-wpJfwesg...|Sx8TMOWLNuJBWer-0...|         4.0|     1|bcjbaE6dDog4jkNY9...|cute interior and...|    1|[cute, interior, ...|[cute, interior, ...|(1000,[13,39,53,9...|(1000,[13,39,53,9...|\n",
      "|04UD14gamNjLY0IDY...|Mediterranean, Re...|04UD14gamNjLY0IDY...|JrIxlS1TzJ-iCu79u...|         1.0|     1|eUta8W_HdHMXPzLBB...|i am a long term ...|    0|[i, am, a, long, ...|[long, term, freq...|(1000,[38,44,112,...|(1000,[38,44,112,...|\n",
      "|LHSTtnW3YHCeUkRDG...|Beer Bar, Bars, A...|LHSTtnW3YHCeUkRDG...|_ZeMknuYdlQcUqng_...|         5.0|     2|yfFzsLmaWF2d4Sr0U...|amazingly amazing...|    1|[amazingly, amazi...|[amazingly, amazi...|(1000,[44,116,135...|(1000,[44,116,135...|\n",
      "|rBdG_23USc7DletfZ...|Wine Bars, Bars, ...|rBdG_23USc7DletfZ...|LnGZB0fjfgeVDVz5I...|         4.0|     1|j2wlzrntrbKwyOcOi...|the hubby and i h...|    1|[the, hubby, and,...|[hubby, multiple,...|(1000,[8,11,29,48...|(1000,[8,11,29,48...|\n",
      "+--------------------+--------------------+--------------------+--------------------+------------+------+--------------------+--------------------+-----+--------------------+--------------------+--------------------+--------------------+\n",
      "only showing top 5 rows\n",
      "\n"
     ]
    }
   ],
   "source": [
    "encodedData_hasingTF.show(5)"
   ]
  },
  {
   "cell_type": "code",
   "execution_count": 34,
   "id": "11394525-6e89-43b3-a554-f3ad0f08febc",
   "metadata": {
    "tags": []
   },
   "outputs": [
    {
     "data": {
      "text/html": [
       "<div>\n",
       "<style scoped>\n",
       "    .dataframe tbody tr th:only-of-type {\n",
       "        vertical-align: middle;\n",
       "    }\n",
       "\n",
       "    .dataframe tbody tr th {\n",
       "        vertical-align: top;\n",
       "    }\n",
       "\n",
       "    .dataframe thead th {\n",
       "        text-align: right;\n",
       "    }\n",
       "</style>\n",
       "<table border=\"1\" class=\"dataframe\">\n",
       "  <thead>\n",
       "    <tr style=\"text-align: right;\">\n",
       "      <th></th>\n",
       "      <th>review_id</th>\n",
       "      <th>words</th>\n",
       "      <th>features</th>\n",
       "      <th>review_stars</th>\n",
       "    </tr>\n",
       "  </thead>\n",
       "  <tbody>\n",
       "    <tr>\n",
       "      <th>0</th>\n",
       "      <td>AqPFMleE6RsU23_auESxiA</td>\n",
       "      <td>[wow, , yummy, different, , delicious, , , our...</td>\n",
       "      <td>(0.0, 0.0, 0.0, 0.0, 0.0, 0.0, 0.0, 0.0, 0.0, ...</td>\n",
       "      <td>5.0</td>\n",
       "    </tr>\n",
       "    <tr>\n",
       "      <th>1</th>\n",
       "      <td>Sx8TMOWLNuJBWer-0pcmoA</td>\n",
       "      <td>[cute, interior, and, owner, , gave, us, tour,...</td>\n",
       "      <td>(0.0, 0.0, 0.0, 0.0, 0.0, 0.0, 0.0, 0.0, 0.0, ...</td>\n",
       "      <td>4.0</td>\n",
       "    </tr>\n",
       "    <tr>\n",
       "      <th>2</th>\n",
       "      <td>JrIxlS1TzJ-iCu79ul40cQ</td>\n",
       "      <td>[i, am, a, long, term, frequent, customer, of,...</td>\n",
       "      <td>(0.0, 0.0, 0.0, 0.0, 0.0, 0.0, 0.0, 0.0, 0.0, ...</td>\n",
       "      <td>1.0</td>\n",
       "    </tr>\n",
       "    <tr>\n",
       "      <th>3</th>\n",
       "      <td>_ZeMknuYdlQcUqng_Im3yg</td>\n",
       "      <td>[amazingly, amazing, wings, and, homemade, ble...</td>\n",
       "      <td>(0.0, 0.0, 0.0, 0.0, 0.0, 0.0, 0.0, 0.0, 0.0, ...</td>\n",
       "      <td>5.0</td>\n",
       "    </tr>\n",
       "    <tr>\n",
       "      <th>4</th>\n",
       "      <td>LnGZB0fjfgeVDVz5IHuEVA</td>\n",
       "      <td>[the, hubby, and, i, have, been, here, on, mul...</td>\n",
       "      <td>(0.0, 0.0, 0.0, 0.0, 0.0, 0.0, 0.0, 0.0, 4.418...</td>\n",
       "      <td>4.0</td>\n",
       "    </tr>\n",
       "  </tbody>\n",
       "</table>\n",
       "</div>"
      ],
      "text/plain": [
       "                review_id                                              words  \\\n",
       "0  AqPFMleE6RsU23_auESxiA  [wow, , yummy, different, , delicious, , , our...   \n",
       "1  Sx8TMOWLNuJBWer-0pcmoA  [cute, interior, and, owner, , gave, us, tour,...   \n",
       "2  JrIxlS1TzJ-iCu79ul40cQ  [i, am, a, long, term, frequent, customer, of,...   \n",
       "3  _ZeMknuYdlQcUqng_Im3yg  [amazingly, amazing, wings, and, homemade, ble...   \n",
       "4  LnGZB0fjfgeVDVz5IHuEVA  [the, hubby, and, i, have, been, here, on, mul...   \n",
       "\n",
       "                                            features  review_stars  \n",
       "0  (0.0, 0.0, 0.0, 0.0, 0.0, 0.0, 0.0, 0.0, 0.0, ...           5.0  \n",
       "1  (0.0, 0.0, 0.0, 0.0, 0.0, 0.0, 0.0, 0.0, 0.0, ...           4.0  \n",
       "2  (0.0, 0.0, 0.0, 0.0, 0.0, 0.0, 0.0, 0.0, 0.0, ...           1.0  \n",
       "3  (0.0, 0.0, 0.0, 0.0, 0.0, 0.0, 0.0, 0.0, 0.0, ...           5.0  \n",
       "4  (0.0, 0.0, 0.0, 0.0, 0.0, 0.0, 0.0, 0.0, 4.418...           4.0  "
      ]
     },
     "execution_count": 34,
     "metadata": {},
     "output_type": "execute_result"
    }
   ],
   "source": [
    "#drop the redundant source column\n",
    "#columns_to_drop = ['business_id','date','review_id','words','text']\n",
    "encodedData_tf = encodedData_hasingTF.select('review_id','words','features','review_stars')\n",
    "encodedData_tf.select('review_id','words','features','review_stars').limit(5).toPandas()"
   ]
  },
  {
   "cell_type": "code",
   "execution_count": 35,
   "id": "294bb46e-6c94-47e2-9efe-cf3bc47f0ce7",
   "metadata": {
    "tags": []
   },
   "outputs": [
    {
     "name": "stdout",
     "output_type": "stream",
     "text": [
      "+------------+------+\n",
      "|review_stars| count|\n",
      "+------------+------+\n",
      "|         1.0|264847|\n",
      "|         4.0|497338|\n",
      "|         2.0|193798|\n",
      "|         5.0|773235|\n",
      "+------------+------+\n",
      "\n"
     ]
    }
   ],
   "source": [
    "encodedData_tf.groupby('review_stars').count().show()"
   ]
  },
  {
   "cell_type": "code",
   "execution_count": 36,
   "id": "cf1249c0-d79a-4a91-b161-e1a337d47cc4",
   "metadata": {
    "tags": []
   },
   "outputs": [],
   "source": [
    "DF_sa =encodedData_tf.select(rating_convert('review_stars'),'features')\n",
    "DF_sa = DF_sa.withColumnRenamed('<lambda>(review_stars)', 'label')"
   ]
  },
  {
   "cell_type": "code",
   "execution_count": 37,
   "id": "f303da0d-631b-4d59-85c1-092155b02f35",
   "metadata": {
    "tags": []
   },
   "outputs": [],
   "source": [
    "#convert classification from string to integer to enable model to run\n",
    "from pyspark.sql import types \n",
    "DF_sa = DF_sa.withColumn(\"label\",DF_sa[\"label\"].cast('int'))"
   ]
  },
  {
   "cell_type": "code",
   "execution_count": 38,
   "id": "8209a2ba-659f-43f4-b57f-3de3e89afe1c",
   "metadata": {
    "tags": []
   },
   "outputs": [
    {
     "name": "stdout",
     "output_type": "stream",
     "text": [
      "The number of ones are 1270573\n",
      "Percentage of ones are 73.47673919656168\n"
     ]
    }
   ],
   "source": [
    "dataset_size=float(DF_sa.select(\"label\").count())\n",
    "numPositives=DF_sa.select(\"label\").where('label == 1').count()\n",
    "per_ones=(float(numPositives)/float(dataset_size))*100\n",
    "numNegatives=float(dataset_size-numPositives)\n",
    "print('The number of ones are {}'.format(numPositives))\n",
    "print('Percentage of ones are {}'.format(per_ones))"
   ]
  },
  {
   "cell_type": "code",
   "execution_count": 39,
   "id": "8fd63d19-4b32-4326-a355-193275b6253c",
   "metadata": {
    "tags": []
   },
   "outputs": [],
   "source": [
    "DF_sa = DF_sa.sample(fraction=0.3)"
   ]
  },
  {
   "cell_type": "markdown",
   "id": "d478777a-aa6c-4dfa-9f03-5e5c0f029ffc",
   "metadata": {},
   "source": [
    "2). Modeling"
   ]
  },
  {
   "cell_type": "markdown",
   "id": "8b334d20-d5fa-4ac9-8779-4a56ba3788ba",
   "metadata": {
    "tags": []
   },
   "source": [
    "**Since our dataset is large, we don't need more percentage of data for testing. So we keep only 5% data for testing and 95% data for training the models to achieve higher accuracy.**"
   ]
  },
  {
   "cell_type": "code",
   "execution_count": 40,
   "id": "aeed76c5-9496-4e1e-9c5e-91dd3de4dd92",
   "metadata": {
    "tags": []
   },
   "outputs": [],
   "source": [
    "splits = DF_sa.randomSplit([0.7, 0.3],seed=100)\n",
    "train_df_tf = splits[0]\n",
    "test_df_tf = splits[1]"
   ]
  },
  {
   "cell_type": "markdown",
   "id": "f294dcbf-384f-4b29-80e5-4227f9ebc87a",
   "metadata": {},
   "source": [
    "### Logistic Regression"
   ]
  },
  {
   "cell_type": "code",
   "execution_count": 25,
   "id": "916b489c-177c-475b-875a-830f2531fff8",
   "metadata": {
    "tags": []
   },
   "outputs": [],
   "source": [
    "from pyspark.ml.classification import LogisticRegression\n",
    "\n",
    "# Set parameters for Logistic Regression maxIter=10, regParam=0.01\n",
    "lgr_tf = LogisticRegression(maxIter=10,regParam=0.01, featuresCol = 'features', labelCol='label')\n",
    "\n",
    "# Fit the model to the data.\n",
    "lgModel_tf = lgr_tf.fit(train_df_tf)\n",
    "\n",
    "# Given a dataset, predict each point's label, and show the results.\n",
    "lgr_pred_tf = lgModel_tf.transform(test_df_tf)"
   ]
  },
  {
   "cell_type": "code",
   "execution_count": 26,
   "id": "ab2a1e4a-f02a-4247-960e-8b9e6e8f9ca6",
   "metadata": {
    "tags": []
   },
   "outputs": [
    {
     "name": "stdout",
     "output_type": "stream",
     "text": [
      "+-----+--------------------+--------------------+--------------------+----------+\n",
      "|label|            features|       rawPrediction|         probability|prediction|\n",
      "+-----+--------------------+--------------------+--------------------+----------+\n",
      "|    0|(1000,[0,1,2,15,3...|[3.24481735519824...|[0.96248643440576...|       0.0|\n",
      "|    0|(1000,[0,1,5,9,10...|[11.6486777434266...|[0.99999126948741...|       0.0|\n",
      "|    0|(1000,[0,1,6,9,10...|[11.6349714538188...|[0.99999114900171...|       0.0|\n",
      "|    0|(1000,[0,1,7,15,1...|[-0.9504026307888...|[0.27880385688227...|       1.0|\n",
      "|    0|(1000,[0,1,7,15,2...|[-2.5798734376228...|[0.07044501806534...|       1.0|\n",
      "+-----+--------------------+--------------------+--------------------+----------+\n",
      "only showing top 5 rows\n",
      "\n"
     ]
    }
   ],
   "source": [
    "lgr_pred_tf.show(5)"
   ]
  },
  {
   "cell_type": "code",
   "execution_count": 27,
   "id": "0b052d6a-8a16-4947-81f2-0382493a7cdb",
   "metadata": {
    "tags": []
   },
   "outputs": [
    {
     "name": "stdout",
     "output_type": "stream",
     "text": [
      "0.9000656024491581\n",
      "0.8972808496131066\n"
     ]
    }
   ],
   "source": [
    "from pyspark.ml.evaluation import MulticlassClassificationEvaluator\n",
    "\n",
    "#print evaluation metrics\n",
    "evaluator = MulticlassClassificationEvaluator(labelCol=\"label\", predictionCol=\"prediction\")\n",
    "\n",
    "print(evaluator.evaluate(lgr_pred_tf, {evaluator.metricName: \"accuracy\"}))\n",
    "print(evaluator.evaluate(lgr_pred_tf, {evaluator.metricName: \"f1\"}))"
   ]
  },
  {
   "cell_type": "code",
   "execution_count": 28,
   "id": "5abec074-2523-4486-8497-a29058c63fae",
   "metadata": {
    "tags": []
   },
   "outputs": [
    {
     "name": "stdout",
     "output_type": "stream",
     "text": [
      "areaUnderROC: 0.9512665755220779\n"
     ]
    },
    {
     "data": {
      "image/png": "[encoded data removed]",
      "text/plain": [
       "<Figure size 500x500 with 1 Axes>"
      ]
     },
     "metadata": {},
     "output_type": "display_data"
    }
   ],
   "source": [
    "trainingSummary = lgModel_tf.summary\n",
    "\n",
    "print(\"areaUnderROC: \" + str(trainingSummary.areaUnderROC))\n",
    "#import matplotlib.pyplot as plt\n",
    "plt.figure(figsize=(5,5))\n",
    "plt.plot([0, 1], [0, 1], 'r--')\n",
    "plt.plot(lgModel_tf.summary.roc.select('FPR').collect(),\n",
    "         lgModel_tf.summary.roc.select('TPR').collect())\n",
    "plt.xlabel('FPR')\n",
    "plt.ylabel('TPR')\n",
    "plt.show()"
   ]
  },
  {
   "cell_type": "code",
   "execution_count": 29,
   "id": "1dbf3361-0232-4cb4-9dc7-ea7ac323272d",
   "metadata": {
    "tags": []
   },
   "outputs": [],
   "source": [
    "from sklearn.metrics import classification_report, confusion_matrix"
   ]
  },
  {
   "cell_type": "code",
   "execution_count": 30,
   "id": "ad2aaf5f-8bd7-424a-a8dd-2f9c4f8a38ce",
   "metadata": {
    "tags": []
   },
   "outputs": [],
   "source": [
    "y_true = lgr_pred_tf.select(\"label\").toPandas()\n",
    "y_pred = lgr_pred_tf.select(\"prediction\").toPandas()"
   ]
  },
  {
   "cell_type": "code",
   "execution_count": 31,
   "id": "78af2203-be01-4b90-9022-053bea7b6e97",
   "metadata": {
    "tags": []
   },
   "outputs": [],
   "source": [
    "cnf_matrix = confusion_matrix(y_true, y_pred, labels = [1, 0])"
   ]
  },
  {
   "cell_type": "code",
   "execution_count": 32,
   "id": "8dce821c-82f8-4f74-beaa-085dbc2296d5",
   "metadata": {
    "tags": []
   },
   "outputs": [
    {
     "name": "stdout",
     "output_type": "stream",
     "text": [
      "              precision    recall  f1-score   support\n",
      "\n",
      "           0       0.87      0.74      0.80     41580\n",
      "           1       0.91      0.96      0.93    113902\n",
      "\n",
      "    accuracy                           0.90    155482\n",
      "   macro avg       0.89      0.85      0.87    155482\n",
      "weighted avg       0.90      0.90      0.90    155482\n",
      "\n"
     ]
    }
   ],
   "source": [
    "print(classification_report(y_true, y_pred))"
   ]
  },
  {
   "cell_type": "markdown",
   "id": "6571f5d7-bf36-47da-9e1e-4771a8520394",
   "metadata": {},
   "source": [
    "## Random Forest"
   ]
  },
  {
   "cell_type": "code",
   "execution_count": 41,
   "id": "71bec0a0-8626-4e43-ada6-97cc771112e5",
   "metadata": {
    "tags": []
   },
   "outputs": [],
   "source": [
    "from pyspark.ml.classification import RandomForestClassifier\n",
    "\n",
    "rf_tf = RandomForestClassifier(featuresCol = 'features', labelCol = 'label')\n",
    "# Fit the model to the data.\n",
    "rfModel_tf = rf_tf.fit(train_df_tf)\n",
    "\n",
    "# Given a dataset, predict each point's label, and show the results.\n",
    "rf_pred_tf = rfModel_tf.transform(test_df_tf)"
   ]
  },
  {
   "cell_type": "code",
   "execution_count": 42,
   "id": "f88a0152-a652-4d00-aab8-e46060e40789",
   "metadata": {
    "tags": []
   },
   "outputs": [
    {
     "name": "stdout",
     "output_type": "stream",
     "text": [
      "0.7414808676828603\n",
      "0.6390047743348624\n"
     ]
    }
   ],
   "source": [
    "from pyspark.ml.evaluation import MulticlassClassificationEvaluator\n",
    "\n",
    "#print evaluation metrics\n",
    "evaluator = MulticlassClassificationEvaluator(labelCol=\"label\", predictionCol=\"prediction\")\n",
    "\n",
    "print(evaluator.evaluate(rf_pred_tf, {evaluator.metricName: \"accuracy\"}))\n",
    "print(evaluator.evaluate(rf_pred_tf, {evaluator.metricName: \"f1\"}))"
   ]
  },
  {
   "cell_type": "code",
   "execution_count": 43,
   "id": "a3923e50-828b-40e8-b17c-e410f70455cd",
   "metadata": {
    "tags": []
   },
   "outputs": [
    {
     "name": "stdout",
     "output_type": "stream",
     "text": [
      "areaUnderROC: 0.8373196287345285\n"
     ]
    },
    {
     "data": {
      "image/png": "[encoded data removed]",
      "text/plain": [
       "<Figure size 500x500 with 1 Axes>"
      ]
     },
     "metadata": {},
     "output_type": "display_data"
    }
   ],
   "source": [
    "trainingSummary = rfModel_tf.summary\n",
    "\n",
    "print(\"areaUnderROC: \" + str(trainingSummary.areaUnderROC))\n",
    "#import matplotlib.pyplot as plt\n",
    "plt.figure(figsize=(5,5))\n",
    "plt.plot([0, 1], [0, 1], 'r--')\n",
    "plt.plot(rfModel_tf.summary.roc.select('FPR').collect(),\n",
    "         rfModel_tf.summary.roc.select('TPR').collect())\n",
    "plt.xlabel('FPR')\n",
    "plt.ylabel('TPR')\n",
    "plt.show()"
   ]
  },
  {
   "cell_type": "code",
   "execution_count": 47,
   "id": "13a19f22-b70b-4693-bcc1-cd59d03ceaac",
   "metadata": {
    "tags": []
   },
   "outputs": [],
   "source": [
    "from sklearn.metrics import classification_report, confusion_matrix"
   ]
  },
  {
   "cell_type": "code",
   "execution_count": 48,
   "id": "c8d01828-ae8f-4c0f-b673-0328ddba2b9c",
   "metadata": {
    "tags": []
   },
   "outputs": [],
   "source": [
    "y_true = rf_pred_tf.select(\"label\").toPandas()\n",
    "y_pred = rf_pred_tf.select(\"prediction\").toPandas()\n",
    "cnf_matrix = confusion_matrix(y_true, y_pred, labels = [1, 0])"
   ]
  },
  {
   "cell_type": "code",
   "execution_count": 49,
   "id": "440d2c06-630e-42ba-aad9-737e31f888fc",
   "metadata": {
    "tags": []
   },
   "outputs": [
    {
     "name": "stdout",
     "output_type": "stream",
     "text": [
      "              precision    recall  f1-score   support\n",
      "\n",
      "           0       0.98      0.03      0.06     41421\n",
      "           1       0.74      1.00      0.85    114258\n",
      "\n",
      "    accuracy                           0.74    155679\n",
      "   macro avg       0.86      0.51      0.45    155679\n",
      "weighted avg       0.80      0.74      0.64    155679\n",
      "\n"
     ]
    }
   ],
   "source": [
    "print(classification_report(y_true, y_pred))"
   ]
  },
  {
   "cell_type": "markdown",
   "id": "c028c8a9-18d5-4d28-ac12-2de5841b5d94",
   "metadata": {},
   "source": [
    "## Gradient Boost Classifier"
   ]
  },
  {
   "cell_type": "code",
   "execution_count": 39,
   "id": "f67f3fd0-2b15-4316-81f9-37641a5f849f",
   "metadata": {
    "tags": []
   },
   "outputs": [
    {
     "name": "stdout",
     "output_type": "stream",
     "text": [
      "+-----+--------------------+--------------------+--------------------+----------+\n",
      "|label|            features|       rawPrediction|         probability|prediction|\n",
      "+-----+--------------------+--------------------+--------------------+----------+\n",
      "|    0|(1000,[0,1,2,15,3...|[-0.0539503449835...|[0.47305096874310...|       1.0|\n",
      "|    0|(1000,[0,1,5,9,10...|[1.02466149790863...|[0.88587919333853...|       0.0|\n",
      "|    0|(1000,[0,1,6,9,10...|[-0.0056448736496...|[0.49717759315337...|       1.0|\n",
      "|    0|(1000,[0,1,7,15,1...|[-0.1002736729371...|[0.45003052921126...|       1.0|\n",
      "|    0|(1000,[0,1,7,15,2...|[0.05785917899818...|[0.52889735028872...|       0.0|\n",
      "+-----+--------------------+--------------------+--------------------+----------+\n",
      "only showing top 5 rows\n",
      "\n"
     ]
    }
   ],
   "source": [
    "from pyspark.ml.classification import GBTClassifier\n",
    "gbt_tf = GBTClassifier(maxIter=10,featuresCol = 'features', labelCol='label')\n",
    "gbtModel_tf = gbt_tf.fit(train_df_tf)\n",
    "gbt_pred_tf = gbtModel_tf.transform(test_df_tf)\n",
    "gbt_pred_tf.show(5)"
   ]
  },
  {
   "cell_type": "code",
   "execution_count": 44,
   "id": "9b227703-e753-4ba2-98e8-21fc6f5c3ffc",
   "metadata": {
    "tags": []
   },
   "outputs": [
    {
     "name": "stdout",
     "output_type": "stream",
     "text": [
      "0.810781955467514\n",
      "0.7848317041383829\n"
     ]
    }
   ],
   "source": [
    "from pyspark.ml.evaluation import MulticlassClassificationEvaluator\n",
    "#print evaluation metrics\n",
    "evaluator = MulticlassClassificationEvaluator(labelCol=\"label\", predictionCol=\"prediction\")\n",
    "\n",
    "print(evaluator.evaluate(gbt_pred_tf, {evaluator.metricName: \"accuracy\"}))\n",
    "print(evaluator.evaluate(gbt_pred_tf, {evaluator.metricName: \"f1\"}))"
   ]
  },
  {
   "cell_type": "code",
   "execution_count": 46,
   "id": "8fa78b71-a032-4782-bd38-5ab7bd46600a",
   "metadata": {
    "tags": []
   },
   "outputs": [
    {
     "name": "stdout",
     "output_type": "stream",
     "text": [
      "              precision    recall  f1-score   support\n",
      "\n",
      "           0       0.81      0.38      0.52     41580\n",
      "           1       0.81      0.97      0.88    113902\n",
      "\n",
      "    accuracy                           0.81    155482\n",
      "   macro avg       0.81      0.67      0.70    155482\n",
      "weighted avg       0.81      0.81      0.78    155482\n",
      "\n"
     ]
    }
   ],
   "source": [
    "y_true = gbt_pred_tf.select(\"label\").toPandas()\n",
    "y_pred = gbt_pred_tf.select(\"prediction\").toPandas()\n",
    "cnf_matrix = confusion_matrix(y_true, y_pred, labels = [1, 0])\n",
    "print(classification_report(y_true, y_pred))"
   ]
  },
  {
   "cell_type": "markdown",
   "id": "d3619c6e-6caf-481a-8d95-1f0c28711b12",
   "metadata": {},
   "source": [
    "**This can be used for user's experience prediction. If the predicted value is 0, we can send them a follow-up questionaire and ask them to rate and comment our service.**"
   ]
  }
 ],
 "metadata": {
  "kernelspec": {
   "display_name": "Python 3 (ipykernel)",
   "language": "python",
   "name": "python3"
  },
  "language_info": {
   "codemirror_mode": {
    "name": "ipython",
    "version": 3
   },
   "file_extension": ".py",
   "mimetype": "text/x-python",
   "name": "python",
   "nbconvert_exporter": "python",
   "pygments_lexer": "ipython3",
   "version": "3.10.9"
  }
 },
 "nbformat": 4,
 "nbformat_minor": 5
}
